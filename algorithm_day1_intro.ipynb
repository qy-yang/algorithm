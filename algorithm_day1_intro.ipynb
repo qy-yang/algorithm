{
 "cells": [
  {
   "cell_type": "markdown",
   "metadata": {},
   "source": [
    "# Day 1"
   ]
  },
  {
   "cell_type": "markdown",
   "metadata": {},
   "source": [
    "## Ex1: Calculate the solution of the quadratic equation"
   ]
  },
  {
   "cell_type": "code",
   "execution_count": 1,
   "metadata": {},
   "outputs": [],
   "source": [
    "import math\n",
    "\n",
    "def solve(a, b, c):\n",
    "    x1 = (-b + math.sqrt(pow(b, 2) -4 * a * c)) / (2 * a)\n",
    "    x2 = (-b - math.sqrt(pow(b, 2) -4 * a * c)) / (2 * a)\n",
    "    return x1, x2"
   ]
  },
  {
   "cell_type": "code",
   "execution_count": 2,
   "metadata": {},
   "outputs": [
    {
     "data": {
      "text/plain": [
       "(-0.2679491924311228, -3.732050807568877)"
      ]
     },
     "execution_count": 2,
     "metadata": {},
     "output_type": "execute_result"
    }
   ],
   "source": [
    "solve(1, 4, 1)"
   ]
  },
  {
   "cell_type": "markdown",
   "metadata": {},
   "source": [
    "## Ex2: Singing Contest\n",
    "Scoring a singer in a singing contest by removing a minimum score and a maximum score, and then calculate an average score."
   ]
  },
  {
   "cell_type": "code",
   "execution_count": 3,
   "metadata": {},
   "outputs": [
    {
     "data": {
      "text/plain": [
       "7.928571428571429"
      ]
     },
     "execution_count": 3,
     "metadata": {},
     "output_type": "execute_result"
    }
   ],
   "source": [
    "def singing_score(values):\n",
    "    n = len(values)\n",
    "    max_score, min_score = values[0], values[0]\n",
    "    for i in range(1, n):\n",
    "        if values[i] > max_score:\n",
    "            max_score = values[i]\n",
    "        if values[i] < min_score:\n",
    "            min_score = values[i]\n",
    "            \n",
    "    values.remove(max_score)\n",
    "    values.remove(min_score)\n",
    "    return sum(values) / (n - 2)\n",
    "\n",
    "values =  [8,9,5,10,5,8,7,9,9.5]\n",
    "singing_score(values)"
   ]
  },
  {
   "cell_type": "markdown",
   "metadata": {},
   "source": [
    "## Ex3: Compute 𝜋"
   ]
  },
  {
   "cell_type": "markdown",
   "metadata": {},
   "source": [
    "Method 1\n",
    "$$\n",
    "\\frac{\\pi}{4} = 1-\\frac{1}{3}+\\frac{1}{5}-\\frac{1}{7}+\\frac{1}{9}+…\n",
    "$$"
   ]
  },
  {
   "cell_type": "code",
   "execution_count": 4,
   "metadata": {},
   "outputs": [
    {
     "data": {
      "text/plain": [
       "3.141392653591791"
      ]
     },
     "execution_count": 4,
     "metadata": {},
     "output_type": "execute_result"
    }
   ],
   "source": [
    "def pi1(n):\n",
    "    sign = -1\n",
    "    pi = 0\n",
    "    for i in range(1, n + 1, 2):\n",
    "        sign *= -1\n",
    "#         print(1 / i * sign)\n",
    "        pi += (1 / i) * sign\n",
    "        \n",
    "    return pi * 4\n",
    "\n",
    "pi1(10000)"
   ]
  },
  {
   "cell_type": "code",
   "execution_count": 5,
   "metadata": {},
   "outputs": [
    {
     "data": {
      "text/plain": [
       "3.1415946535856922"
      ]
     },
     "execution_count": 5,
     "metadata": {},
     "output_type": "execute_result"
    }
   ],
   "source": [
    "def pi2():\n",
    "    delta = 0.000001\n",
    "    sign = -1\n",
    "    pi = 0\n",
    "    pre = 100\n",
    "    i = 1\n",
    "    \n",
    "    while (abs(pi - pre) > delta):\n",
    "        sign *= -1\n",
    "        pre = pi\n",
    "        pi += (1 / i) * sign\n",
    "        i += 2\n",
    "\n",
    "    return pi * 4\n",
    "\n",
    "pi2()"
   ]
  },
  {
   "cell_type": "markdown",
   "metadata": {},
   "source": [
    "Method 2: Monte Carlo's simulation"
   ]
  },
  {
   "cell_type": "code",
   "execution_count": 6,
   "metadata": {},
   "outputs": [
    {
     "data": {
      "text/plain": [
       "3.141356"
      ]
     },
     "execution_count": 6,
     "metadata": {},
     "output_type": "execute_result"
    }
   ],
   "source": [
    "from random import random\n",
    "\n",
    "def pi3(tries):\n",
    "    hits = 0\n",
    "    for i in range(tries):\n",
    "        r = random()\n",
    "        x = -1 + 2 * r\n",
    "        r = random()\n",
    "        y = -1 + 2 * r\n",
    "        if x * x + y * y <= 1:\n",
    "            hits += 1\n",
    "    return 4 * hits / tries\n",
    "\n",
    "pi3(10000000)"
   ]
  },
  {
   "cell_type": "markdown",
   "metadata": {},
   "source": [
    "## Ex4: Multiplication table"
   ]
  },
  {
   "cell_type": "code",
   "execution_count": 7,
   "metadata": {},
   "outputs": [
    {
     "name": "stdout",
     "output_type": "stream",
     "text": [
      "1 * 1 = 1  \n",
      "2 * 1 = 2  2 * 2 = 4  \n",
      "3 * 1 = 3  3 * 2 = 6  3 * 3 = 9  \n",
      "4 * 1 = 4  4 * 2 = 8  4 * 3 = 12  4 * 4 = 16  \n",
      "5 * 1 = 5  5 * 2 = 10  5 * 3 = 15  5 * 4 = 20  5 * 5 = 25  \n",
      "6 * 1 = 6  6 * 2 = 12  6 * 3 = 18  6 * 4 = 24  6 * 5 = 30  6 * 6 = 36  \n",
      "7 * 1 = 7  7 * 2 = 14  7 * 3 = 21  7 * 4 = 28  7 * 5 = 35  7 * 6 = 42  7 * 7 = 49  \n",
      "8 * 1 = 8  8 * 2 = 16  8 * 3 = 24  8 * 4 = 32  8 * 5 = 40  8 * 6 = 48  8 * 7 = 56  8 * 8 = 64  \n",
      "9 * 1 = 9  9 * 2 = 18  9 * 3 = 27  9 * 4 = 36  9 * 5 = 45  9 * 6 = 54  9 * 7 = 63  9 * 8 = 72  9 * 9 = 81  \n"
     ]
    }
   ],
   "source": [
    "def mults():\n",
    "    for i in range(1, 10):\n",
    "        for j in range(1, i + 1):\n",
    "            print(f'{i} * {j} = {i * j}', end=\"  \")\n",
    "        print()\n",
    "        \n",
    "mults()"
   ]
  },
  {
   "cell_type": "code",
   "execution_count": 8,
   "metadata": {},
   "outputs": [
    {
     "data": {
      "text/plain": [
       "[(1, 1, 1),\n",
       " (2, 1, 2),\n",
       " (2, 2, 4),\n",
       " (3, 1, 3),\n",
       " (3, 2, 6),\n",
       " (3, 3, 9),\n",
       " (4, 1, 4),\n",
       " (4, 2, 8),\n",
       " (4, 3, 12),\n",
       " (4, 4, 16),\n",
       " (5, 1, 5),\n",
       " (5, 2, 10),\n",
       " (5, 3, 15),\n",
       " (5, 4, 20),\n",
       " (5, 5, 25),\n",
       " (6, 1, 6),\n",
       " (6, 2, 12),\n",
       " (6, 3, 18),\n",
       " (6, 4, 24),\n",
       " (6, 5, 30),\n",
       " (6, 6, 36),\n",
       " (7, 1, 7),\n",
       " (7, 2, 14),\n",
       " (7, 3, 21),\n",
       " (7, 4, 28),\n",
       " (7, 5, 35),\n",
       " (7, 6, 42),\n",
       " (7, 7, 49),\n",
       " (8, 1, 8),\n",
       " (8, 2, 16),\n",
       " (8, 3, 24),\n",
       " (8, 4, 32),\n",
       " (8, 5, 40),\n",
       " (8, 6, 48),\n",
       " (8, 7, 56),\n",
       " (8, 8, 64),\n",
       " (9, 1, 9),\n",
       " (9, 2, 18),\n",
       " (9, 3, 27),\n",
       " (9, 4, 36),\n",
       " (9, 5, 45),\n",
       " (9, 6, 54),\n",
       " (9, 7, 63),\n",
       " (9, 8, 72),\n",
       " (9, 9, 81)]"
      ]
     },
     "execution_count": 8,
     "metadata": {},
     "output_type": "execute_result"
    }
   ],
   "source": [
    "[(i, j, i * j) for i in range(1, 10) for j in range(1, i + 1)]"
   ]
  },
  {
   "cell_type": "markdown",
   "metadata": {},
   "source": [
    "## Ex5: Shuffle pokers\n",
    "After shuffling, each card will randomly appear in any position with equal probability."
   ]
  },
  {
   "cell_type": "code",
   "execution_count": 9,
   "metadata": {},
   "outputs": [
    {
     "data": {
      "text/plain": [
       "[1, 5, 9, 6, 4, 2, 3, 7, 8, 0]"
      ]
     },
     "execution_count": 9,
     "metadata": {},
     "output_type": "execute_result"
    }
   ],
   "source": [
    "import random\n",
    "\n",
    "def shuffle_cards(cards):\n",
    "    random.shuffle(cards)\n",
    "    \n",
    "A = [i for i in range(10)]\n",
    "shuffle_cards(A)\n",
    "A"
   ]
  },
  {
   "cell_type": "code",
   "execution_count": 10,
   "metadata": {},
   "outputs": [
    {
     "data": {
      "text/plain": [
       "[[110, 93, 120, 92, 105, 107, 89, 87, 98, 99],\n",
       " [85, 94, 107, 117, 94, 83, 115, 95, 113, 97],\n",
       " [92, 107, 99, 107, 119, 106, 99, 107, 84, 80],\n",
       " [102, 110, 116, 84, 98, 105, 85, 96, 88, 116],\n",
       " [97, 99, 74, 104, 102, 97, 99, 114, 103, 111],\n",
       " [104, 86, 117, 98, 86, 97, 105, 108, 92, 107],\n",
       " [97, 106, 92, 103, 112, 105, 98, 84, 112, 91],\n",
       " [102, 87, 104, 91, 106, 90, 87, 128, 111, 94],\n",
       " [102, 119, 82, 97, 90, 115, 102, 96, 108, 89],\n",
       " [109, 99, 89, 107, 88, 95, 121, 85, 91, 116]]"
      ]
     },
     "execution_count": 10,
     "metadata": {},
     "output_type": "execute_result"
    }
   ],
   "source": [
    "def test_shuffle(f, n):\n",
    "    res = [[0]*10 for j in range(10)]\n",
    "    for _ in range(n):\n",
    "        A = [i for i in range(10)]\n",
    "        f(A)\n",
    "        # count the number of times a num appear in different position\n",
    "        for i, a in enumerate(A):\n",
    "            res[a][i] += 1\n",
    "    return res\n",
    "\n",
    "test_shuffle(shuffle_cards, 1000)"
   ]
  },
  {
   "cell_type": "code",
   "execution_count": 11,
   "metadata": {},
   "outputs": [
    {
     "data": {
      "text/plain": [
       "[[87, 123, 99, 117, 91, 93, 99, 90, 104, 97],\n",
       " [98, 112, 101, 90, 121, 101, 89, 94, 84, 110],\n",
       " [100, 93, 102, 105, 100, 106, 114, 98, 90, 92],\n",
       " [108, 110, 96, 94, 102, 83, 103, 106, 93, 105],\n",
       " [114, 71, 102, 96, 99, 105, 92, 109, 104, 108],\n",
       " [100, 114, 95, 96, 103, 92, 93, 100, 103, 104],\n",
       " [88, 92, 109, 106, 82, 106, 110, 99, 125, 83],\n",
       " [104, 88, 92, 100, 97, 116, 94, 111, 96, 102],\n",
       " [106, 104, 94, 90, 104, 109, 111, 95, 103, 84],\n",
       " [95, 93, 110, 106, 101, 89, 95, 98, 98, 115]]"
      ]
     },
     "execution_count": 11,
     "metadata": {},
     "output_type": "execute_result"
    }
   ],
   "source": [
    "def shuffle_cards2(cards):\n",
    "    '''\n",
    "    The probability of a cards appears in any position is the same, say 1/n\n",
    "    '''\n",
    "    n =  len(cards)\n",
    "    for i in range(n):\n",
    "        k = random.randint(i, n-1)\n",
    "        cards[i], cards[k] = cards[k], cards[i]\n",
    "        \n",
    "test_shuffle(shuffle_cards2, 1000)"
   ]
  },
  {
   "cell_type": "markdown",
   "metadata": {},
   "source": [
    "## Ex6: Coupon Collector\n",
    "Suppose that you have a shuffled deck of cards and you turn them face up, one by one. How many cards do you need to turn up before you have seen one of each suit? Given N distinct card types, how many random cards do you need do collect before you have (at least) one of each type?"
   ]
  },
  {
   "cell_type": "code",
   "execution_count": 12,
   "metadata": {},
   "outputs": [
    {
     "data": {
      "text/plain": [
       "7.678"
      ]
     },
     "execution_count": 12,
     "metadata": {},
     "output_type": "execute_result"
    }
   ],
   "source": [
    "def coupon_collector(mc):    \n",
    "    seen_times = 0\n",
    "    \n",
    "    for _ in range(mc):\n",
    "        A = [0] * 13 + [1] * 13 + [2] * 13 + [3] * 13\n",
    "        shuffle_cards(A)\n",
    "        seen = [0] * 4\n",
    "        \n",
    "        for i in range(len(A)):\n",
    "            if sum(seen) == 4:\n",
    "                seen_times += i\n",
    "                break\n",
    "            seen[A[i]] = 1\n",
    "            \n",
    "    return seen_times / mc\n",
    "\n",
    "coupon_collector(10000)"
   ]
  },
  {
   "cell_type": "code",
   "execution_count": 13,
   "metadata": {},
   "outputs": [
    {
     "data": {
      "text/plain": [
       "29.3128"
      ]
     },
     "execution_count": 13,
     "metadata": {},
     "output_type": "execute_result"
    }
   ],
   "source": [
    "def coupon_collector2(n, mc):\n",
    "    seen_times = 0\n",
    "    \n",
    "    for _ in range(mc):\n",
    "        seen = [0] * n\n",
    "        while sum(seen) < n:\n",
    "            seen_times += 1\n",
    "            picked = random.randint(0, n - 1)\n",
    "            seen[picked] = 1            \n",
    "    return seen_times / mc\n",
    "\n",
    "coupon_collector2(10, 10000)"
   ]
  },
  {
   "cell_type": "markdown",
   "metadata": {},
   "source": [
    "## Ex7: Prime numbers\n",
    "Given a postive integer n, output how many prime number less than it."
   ]
  },
  {
   "cell_type": "code",
   "execution_count": 14,
   "metadata": {},
   "outputs": [
    {
     "name": "stdout",
     "output_type": "stream",
     "text": [
      "2 3 5 7 11 13 17 19 23 29 31 37 41 43 47 53 59 61 67 71 73 79 83 89 97 "
     ]
    }
   ],
   "source": [
    "def count_prime(n):\n",
    "    is_prime = [True] * (n + 1)\n",
    "    \n",
    "    i = 2\n",
    "    while (i * i <= n):\n",
    "        if is_prime[i]:\n",
    "            j = 2\n",
    "            while j * i <= n:\n",
    "                is_prime[j * i] = False\n",
    "                j += 1\n",
    "        i += 1\n",
    "        \n",
    "    for i in range(2, n + 1):\n",
    "        if is_prime[i]:\n",
    "            print(i, end=' ')\n",
    "\n",
    "count_prime(100)"
   ]
  },
  {
   "cell_type": "markdown",
   "metadata": {},
   "source": [
    "## Ex8: Goldbach Conjecture\n",
    "\n",
    "Any even number greater than 2 can be expressed as the sum of two prime numbers."
   ]
  },
  {
   "cell_type": "code",
   "execution_count": 15,
   "metadata": {
    "scrolled": false
   },
   "outputs": [
    {
     "name": "stdout",
     "output_type": "stream",
     "text": [
      "100 = 3 + 97\n",
      "100 = 11 + 89\n",
      "100 = 17 + 83\n",
      "100 = 29 + 71\n",
      "100 = 41 + 59\n",
      "100 = 47 + 53\n"
     ]
    }
   ],
   "source": [
    "def goldbach(n):\n",
    "    # step1: find the prime number less the given number\n",
    "    # step2: two pointers to find the number\n",
    "    is_prime = [True] * (n + 1)\n",
    "    \n",
    "    i = 2\n",
    "    while (i * i <= n):\n",
    "        if is_prime[i]:\n",
    "            j = 2\n",
    "            while j * i <= n:\n",
    "                is_prime[j * i] = False\n",
    "                j += 1\n",
    "        i += 1\n",
    "        \n",
    "    primes = []\n",
    "    for i in range(2, n + 1):\n",
    "        if is_prime[i]:\n",
    "            primes.append(i)\n",
    "            \n",
    "    left, right = 0, len(primes) - 1\n",
    "    while left < right:\n",
    "        if primes[left] + primes[right] == n:\n",
    "            print(f'{n} = {primes[left]} + {primes[right]}')\n",
    "            right -= 1\n",
    "        elif primes[left] + primes[right] > n:\n",
    "            right -= 1\n",
    "        else:\n",
    "            left += 1\n",
    "\n",
    "goldbach(100)"
   ]
  },
  {
   "cell_type": "markdown",
   "metadata": {},
   "source": [
    "## Ex9: Print patterns"
   ]
  },
  {
   "cell_type": "code",
   "execution_count": 16,
   "metadata": {},
   "outputs": [
    {
     "name": "stdout",
     "output_type": "stream",
     "text": [
      "*\n",
      "**\n",
      "***\n",
      "****\n",
      "*****\n"
     ]
    }
   ],
   "source": [
    "for i in range(1, 6):\n",
    "    print('*' * i)"
   ]
  },
  {
   "cell_type": "code",
   "execution_count": 17,
   "metadata": {},
   "outputs": [
    {
     "name": "stdout",
     "output_type": "stream",
     "text": [
      "*****\n",
      "****\n",
      "***\n",
      "**\n",
      "*\n"
     ]
    }
   ],
   "source": [
    "for i in range(5, 0, -1):\n",
    "    print('*' * i)"
   ]
  },
  {
   "cell_type": "code",
   "execution_count": 18,
   "metadata": {},
   "outputs": [
    {
     "name": "stdout",
     "output_type": "stream",
     "text": [
      "****O\n",
      "***OO\n",
      "**OOO\n",
      "*OOOO\n",
      "OOOOO\n"
     ]
    }
   ],
   "source": [
    "for i in range(5, 0, -1):\n",
    "    row = '*' * (i - 1) + 'O' * (6 - i)\n",
    "    print(row)"
   ]
  },
  {
   "cell_type": "code",
   "execution_count": 19,
   "metadata": {},
   "outputs": [
    {
     "name": "stdout",
     "output_type": "stream",
     "text": [
      "*****1*\n",
      "****2**\n",
      "***3***\n",
      "**4****\n",
      "*5*****\n",
      "6******\n"
     ]
    }
   ],
   "source": [
    "for i in range(1, 7):\n",
    "    row = '*' * (6 - i) + str(i) + '*' * i\n",
    "    print(row)"
   ]
  },
  {
   "cell_type": "code",
   "execution_count": 20,
   "metadata": {},
   "outputs": [
    {
     "name": "stdout",
     "output_type": "stream",
     "text": [
      "*.....*\n",
      "**...**\n",
      "***.***\n",
      "*******\n",
      "***.***\n",
      "**...**\n",
      "*.....*\n"
     ]
    }
   ],
   "source": [
    "res = [['*'] * 7 for _ in range(4)]\n",
    "for i in range(3):\n",
    "    res[i][1+i : 6-i] = '.' * (5 - 2 * i)\n",
    "#     print(''.join(res[i]))\n",
    "res = res + res[:3][::-1]\n",
    "\n",
    "for i in range(len(res)):\n",
    "    print(''.join(res[i]))\n",
    "\n",
    "# print(res[:3][::-1])"
   ]
  },
  {
   "cell_type": "code",
   "execution_count": 21,
   "metadata": {},
   "outputs": [
    {
     "name": "stdout",
     "output_type": "stream",
     "text": [
      "*.....*\n",
      "**...**\n",
      "***.***\n",
      "*******\n",
      "***.***\n",
      "**...**\n",
      "*.....*\n"
     ]
    }
   ],
   "source": [
    "for i in range(7) :\n",
    "    for j in range(7):\n",
    "        if i < 7 // 2:\n",
    "            if j <= i or j >= 6 - i:\n",
    "                print('*', end='')\n",
    "            else:\n",
    "                print('.', end='')\n",
    "        elif i == 7 // 2:\n",
    "            print('*', end='')\n",
    "        else:\n",
    "            if j>=i or j <= 6 - i:\n",
    "                print('*', end='')\n",
    "            else:\n",
    "                print('.', end='')\n",
    "            \n",
    "    print()"
   ]
  },
  {
   "cell_type": "code",
   "execution_count": 22,
   "metadata": {},
   "outputs": [
    {
     "name": "stdout",
     "output_type": "stream",
     "text": [
      "*.....*\n",
      ".*...*.\n",
      "..*.*..\n",
      "...*...\n",
      "..*.*..\n",
      ".*...*.\n",
      "*.....*\n"
     ]
    }
   ],
   "source": [
    "for i in range(7):\n",
    "    row = ['.'] * 7\n",
    "    row[i], row[6 - i] = '*', '*'\n",
    "    row = ''.join(row)\n",
    "    print(row)"
   ]
  }
 ],
 "metadata": {
  "kernelspec": {
   "display_name": "Python 3",
   "language": "python",
   "name": "python3"
  },
  "language_info": {
   "codemirror_mode": {
    "name": "ipython",
    "version": 3
   },
   "file_extension": ".py",
   "mimetype": "text/x-python",
   "name": "python",
   "nbconvert_exporter": "python",
   "pygments_lexer": "ipython3",
   "version": "3.7.3"
  },
  "toc": {
   "base_numbering": 1,
   "nav_menu": {},
   "number_sections": true,
   "sideBar": true,
   "skip_h1_title": false,
   "title_cell": "Table of Contents",
   "title_sidebar": "Contents",
   "toc_cell": false,
   "toc_position": {},
   "toc_section_display": true,
   "toc_window_display": true
  }
 },
 "nbformat": 4,
 "nbformat_minor": 2
}
