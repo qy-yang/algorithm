{
 "cells": [
  {
   "cell_type": "markdown",
   "metadata": {},
   "source": [
    "# Mylist"
   ]
  },
  {
   "cell_type": "code",
   "execution_count": 1,
   "metadata": {},
   "outputs": [],
   "source": [
    "import ctypes\n",
    "\n",
    "class DynamicArray:\n",
    "    def __init__(self):\n",
    "        self._size = 0\n",
    "        self._capacity = 10\n",
    "        self._A = self._make_array(self._capacity)\n",
    "    \n",
    "    def __len__(self):\n",
    "        return self._size\n",
    "    \n",
    "    def is_empty(self):\n",
    "        return self._size == 0\n",
    "    \n",
    "    def get_item(self, i):\n",
    "        if i >= self._size or i < 0:\n",
    "            raise ValueError('invalid index') \n",
    "        else:\n",
    "            return self._A[i]\n",
    "    \n",
    "    def append(self, obj):\n",
    "        # check if need to resize\n",
    "        if self._size == self._capacity:\n",
    "#             self._capacity *= 2\n",
    "            self._resize(2 * self._capacity)\n",
    "        self._A[self._size] = obj\n",
    "        self._size += 1\n",
    "    \n",
    "    def _make_array(self, c):\n",
    "        return (c * ctypes.py_object)()  # Create an instance object\n",
    "    \n",
    "    def _resize(self, c):\n",
    "        B = self._make_array(c)\n",
    "        for k in range(self._size):\n",
    "            B[k] = self._A[k]\n",
    "        self._A = B\n",
    "        self._capacity = c\n",
    "    \n",
    "    def insert(self, i, value):\n",
    "        # check if need to resize\n",
    "        if self._size == self._capacity:\n",
    "            self._resize(2 * self._capacity)\n",
    "        for k in range(self._size, i, -1):\n",
    "            self._A[k] = self._A[k - 1]\n",
    "        self._A[i] = value\n",
    "        self._size += 1\n",
    "    \n",
    "    def remove(self, value):\n",
    "        for k in range(self._size):\n",
    "            if self._A[k] == value:\n",
    "                for j in range(k, self._size - 1):\n",
    "                    self._A[k] = self._A[k + 1]\n",
    "                self._A[self._size - 1] = None\n",
    "                self._size -= 1\n",
    "                return\n",
    "        raise ValueError('value not found')\n",
    "    \n",
    "    def pop(self):\n",
    "        self._A[self._size - 1] = None\n",
    "        self._size -= 1\n",
    "    \n",
    "    def _print(self):\n",
    "        for k in range(self._size):\n",
    "            print(self._A[k], end=' ')\n",
    "        print()"
   ]
  },
  {
   "cell_type": "code",
   "execution_count": 2,
   "metadata": {},
   "outputs": [
    {
     "name": "stdout",
     "output_type": "stream",
     "text": [
      "size was:  0\n",
      "0 5 10 15 20 30 \n",
      "0 5 10 15 30 \n",
      "size is:  5\n"
     ]
    }
   ],
   "source": [
    "mylist = DynamicArray()\n",
    "print ('size was: ', str(len(mylist)))\n",
    "mylist.append(10)\n",
    "mylist.append(20)\n",
    "mylist.append(30)\n",
    "mylist.insert(0, 0)\n",
    "mylist.insert(1, 5)\n",
    "mylist.insert(3, 15)\n",
    "mylist._print()\n",
    "mylist.remove(20)\n",
    "mylist._print()\n",
    "\n",
    "print ('size is: ', str(len(mylist)))"
   ]
  },
  {
   "cell_type": "markdown",
   "metadata": {},
   "source": [
    "# Exercise"
   ]
  },
  {
   "cell_type": "markdown",
   "metadata": {},
   "source": [
    "## Ex1: Mine sweeping\n",
    "- Write a program with three arguments (M, N, p): and generate an array of Boolean types of M rows and N columns, depending on the probability p, fill in the “mines”. \n",
    "- In the mine-sweeping game, the one has been occupied as a \"mine\" cell, the other is a \"safe\" cell. Use the asterisk \"*\" for \"landmine\" and the \".\" for \"safety\". \n",
    "- Prints out this array. Then, use the number of nearby (up, down, left, right, and diagonal) mines\n",
    "- Replace the \".\" for the \"safety\" cell and print the result."
   ]
  },
  {
   "cell_type": "code",
   "execution_count": 3,
   "metadata": {},
   "outputs": [],
   "source": [
    "import random\n",
    "\n",
    "def minesweeper(M, N, p):\n",
    "    # Generate the matrix\n",
    "    board = [[False] * (N + 2) for _ in range(M + 2)]\n",
    "    for i in range(1, M + 1):\n",
    "        for j in range(1, N + 1):\n",
    "            if p >= random.random():\n",
    "                board[i][j] = True\n",
    "                \n",
    "    # Print the board\n",
    "    for i in range(1, M + 1):\n",
    "        for j in range(1, N + 1):\n",
    "            if not board[i][j]:\n",
    "                print('.', end='')\n",
    "            else:\n",
    "                print('*', end='')\n",
    "        print()\n",
    "    \n",
    "    # Compute the number of mines in the neighborhood cells\n",
    "    for i in range(1, M + 1):\n",
    "        for j in range(1, N + 1):\n",
    "            if board[i][j]:\n",
    "                print('*', end='')\n",
    "            else:\n",
    "                mine_count = board[i - 1][j] + board[i + 1][j] + board[i][j - 1] + board[i][j + 1] \n",
    "                print(str(mine_count), end='')\n",
    "        print()"
   ]
  },
  {
   "cell_type": "code",
   "execution_count": 4,
   "metadata": {},
   "outputs": [
    {
     "name": "stdout",
     "output_type": "stream",
     "text": [
      "..........\n",
      ".*....**.*\n",
      ".*.*....*.\n",
      "*.***.....\n",
      "..........\n",
      "0100001101\n",
      "1*1101**3*\n",
      "2*3*2012*2\n",
      "*3***10010\n",
      "1011100000\n"
     ]
    }
   ],
   "source": [
    "minesweeper(5, 10, 0.2)"
   ]
  },
  {
   "cell_type": "markdown",
   "metadata": {},
   "source": [
    "## Ex2: Zeros in matrix\n",
    "Write an algorithm: In a matrix of M rows and N columns, if an element is found to be \"0\", the elements of the row and column in which it is located are set to \"0\"."
   ]
  },
  {
   "cell_type": "code",
   "execution_count": 5,
   "metadata": {},
   "outputs": [],
   "source": [
    "def zero(matrix):\n",
    "    n_rows = len(matrix)\n",
    "    n_cols = len(matrix[0])\n",
    "    rows, cols = [None] * n_rows, [None] * n_cols\n",
    "    \n",
    "    for i in range(n_rows):\n",
    "        for j in range(n_cols):\n",
    "            if matrix[i][j] == 0:\n",
    "                rows[i] = 1\n",
    "                cols[j] = 1\n",
    "                \n",
    "    for i in range(n_rows):\n",
    "        for j in range(n_cols):\n",
    "            if rows[i] == 1 or cols[j] == 1:\n",
    "                matrix[i][j] = 0\n",
    "        "
   ]
  },
  {
   "cell_type": "code",
   "execution_count": 6,
   "metadata": {},
   "outputs": [],
   "source": [
    "matrix = [  [ 1, 1, 1, 1, 1, 0, 1, 1, 1, 1 ],\n",
    "            [ 1, 1, 1, 1, 1, 1, 1, 1, 1, 1 ],\n",
    "            [ 1, 1, 0, 1, 1, 1, 1, 1, 1, 1 ],\n",
    "            [ 1, 1, 1, 1, 1, 1, 1, 1, 1, 1 ],\n",
    "            [ 1, 1, 1, 1, 1, 1, 1, 1, 1, 1 ] ]"
   ]
  },
  {
   "cell_type": "code",
   "execution_count": 7,
   "metadata": {},
   "outputs": [
    {
     "name": "stdout",
     "output_type": "stream",
     "text": [
      "[1, 1, 1, 1, 1, 0, 1, 1, 1, 1]\n",
      "[1, 1, 1, 1, 1, 1, 1, 1, 1, 1]\n",
      "[1, 1, 0, 1, 1, 1, 1, 1, 1, 1]\n",
      "[1, 1, 1, 1, 1, 1, 1, 1, 1, 1]\n",
      "[1, 1, 1, 1, 1, 1, 1, 1, 1, 1]\n"
     ]
    }
   ],
   "source": [
    "for x in matrix:\n",
    "    print(x, sep=\" \")"
   ]
  },
  {
   "cell_type": "code",
   "execution_count": 8,
   "metadata": {},
   "outputs": [
    {
     "name": "stdout",
     "output_type": "stream",
     "text": [
      "[0, 0, 0, 0, 0, 0, 0, 0, 0, 0]\n",
      "[1, 1, 0, 1, 1, 0, 1, 1, 1, 1]\n",
      "[0, 0, 0, 0, 0, 0, 0, 0, 0, 0]\n",
      "[1, 1, 0, 1, 1, 0, 1, 1, 1, 1]\n",
      "[1, 1, 0, 1, 1, 0, 1, 1, 1, 1]\n"
     ]
    }
   ],
   "source": [
    "zero(matrix)\n",
    "for x in matrix:\n",
    "    print(x, sep=\" \")"
   ]
  },
  {
   "cell_type": "markdown",
   "metadata": {},
   "source": [
    "## Ex3: Magic Square\n",
    "- Write a program that reads an odd number N from the command line and prints the magic square of N rows and N columns.\n",
    "- The magic square contains all the numbers from 1 to $N^2$, and each number is used only once. The sum of the lines of the magic square, the sum of the columns, and the sum of the diagonals are equal."
   ]
  },
  {
   "cell_type": "code",
   "execution_count": 9,
   "metadata": {},
   "outputs": [],
   "source": [
    "def magic_square(n):\n",
    "    magic = [[0] * n for i in range(n)]\n",
    "    row = n - 1\n",
    "    col = n // 2\n",
    "    magic[row][col] = 1\n",
    "    \n",
    "    for i in range(2, n * n + 1):\n",
    "        try_row = (row + 1) % n\n",
    "        try_col = (col + 1) % n\n",
    "        \n",
    "        if magic[try_row][try_col] == 0:\n",
    "            row = try_row\n",
    "            col = try_col            \n",
    "        else:\n",
    "            row = (row - 1 + n) % n\n",
    "            \n",
    "        magic[row][col] = i\n",
    "    \n",
    "    for x in magic:\n",
    "        print(x)\n"
   ]
  },
  {
   "cell_type": "code",
   "execution_count": 10,
   "metadata": {},
   "outputs": [
    {
     "name": "stdout",
     "output_type": "stream",
     "text": [
      "[4, 9, 2]\n",
      "[3, 5, 7]\n",
      "[8, 1, 6]\n"
     ]
    }
   ],
   "source": [
    "magic_square(3)"
   ]
  },
  {
   "cell_type": "code",
   "execution_count": 11,
   "metadata": {},
   "outputs": [
    {
     "name": "stdout",
     "output_type": "stream",
     "text": [
      "[11, 18, 25, 2, 9]\n",
      "[10, 12, 19, 21, 3]\n",
      "[4, 6, 13, 20, 22]\n",
      "[23, 5, 7, 14, 16]\n",
      "[17, 24, 1, 8, 15]\n"
     ]
    }
   ],
   "source": [
    "magic_square(5)"
   ]
  },
  {
   "cell_type": "markdown",
   "metadata": {},
   "source": [
    "## Ex4: Sudoku Verifier\n",
    "Given a matrix of 9 rows and 9 columns filled with integers from 1-9. Check if the matrix satisfy the criteria for Sudoku are met: each row, column, and block should contain integers 1-9 once without repeating."
   ]
  },
  {
   "cell_type": "code",
   "execution_count": 12,
   "metadata": {},
   "outputs": [],
   "source": [
    "def sudoku(matrix):\n",
    "    n = len(matrix)\n",
    "    \n",
    "    for i in range(n):\n",
    "        for j in range(n):\n",
    "            # Check row\n",
    "            # Check col\n",
    "            # Check block\n",
    "            pass"
   ]
  },
  {
   "cell_type": "markdown",
   "metadata": {},
   "source": [
    "## Ex5: Rotate matrix\n",
    "Write a program rotate a matrix by 90 degrees "
   ]
  },
  {
   "cell_type": "code",
   "execution_count": 13,
   "metadata": {},
   "outputs": [],
   "source": [
    "# space complexity O(n)\n",
    "def rotate(matrix):\n",
    "    n = len(matrix)\n",
    "    res = [[0] * n for _ in range(n)]\n",
    "    \n",
    "    for i in range(n):\n",
    "        for j in range(n):\n",
    "            res[j][n - 1 - i] = matrix[i][j]\n",
    "    \n",
    "    for x in res:\n",
    "        print(x)\n"
   ]
  },
  {
   "cell_type": "code",
   "execution_count": 14,
   "metadata": {},
   "outputs": [
    {
     "data": {
      "text/plain": [
       "[[0, 1, 2, 3, 4],\n",
       " [5, 6, 7, 8, 9],\n",
       " [10, 11, 12, 13, 14],\n",
       " [15, 16, 17, 18, 19],\n",
       " [20, 21, 22, 23, 24]]"
      ]
     },
     "execution_count": 14,
     "metadata": {},
     "output_type": "execute_result"
    }
   ],
   "source": [
    "matrix = [[i*5+j for j in range(5)] for i in range(5)]\n",
    "matrix"
   ]
  },
  {
   "cell_type": "code",
   "execution_count": 15,
   "metadata": {},
   "outputs": [
    {
     "name": "stdout",
     "output_type": "stream",
     "text": [
      "[20, 15, 10, 5, 0]\n",
      "[21, 16, 11, 6, 1]\n",
      "[22, 17, 12, 7, 2]\n",
      "[23, 18, 13, 8, 3]\n",
      "[24, 19, 14, 9, 4]\n"
     ]
    }
   ],
   "source": [
    "rotate(matrix)"
   ]
  },
  {
   "cell_type": "code",
   "execution_count": 16,
   "metadata": {},
   "outputs": [],
   "source": [
    "# in-place\n",
    "\n",
    "def rotate_in_place(matrix):\n",
    "    # transpose + flip\n",
    "    n = len(matrix)\n",
    "    \n",
    "    # transpose\n",
    "    for i in range(n):\n",
    "        for j in range(i+1, n):\n",
    "            matrix[i][j], matrix[j][i] = matrix[j][i], matrix[i][j]\n",
    "            \n",
    "    # flip\n",
    "    for i in range(n):\n",
    "        for j in range(n//2):\n",
    "            matrix[i][j], matrix[i][n - 1 - j] = matrix[i][n - 1 - j], matrix[i][j]\n",
    "            \n",
    "    for x in matrix:\n",
    "        print(x)"
   ]
  },
  {
   "cell_type": "code",
   "execution_count": 17,
   "metadata": {},
   "outputs": [
    {
     "data": {
      "text/plain": [
       "[[0, 1, 2, 3, 4],\n",
       " [5, 6, 7, 8, 9],\n",
       " [10, 11, 12, 13, 14],\n",
       " [15, 16, 17, 18, 19],\n",
       " [20, 21, 22, 23, 24]]"
      ]
     },
     "execution_count": 17,
     "metadata": {},
     "output_type": "execute_result"
    }
   ],
   "source": [
    "matrix = [[i*5+j for j in range(5)] for i in range(5)]\n",
    "matrix"
   ]
  },
  {
   "cell_type": "code",
   "execution_count": 18,
   "metadata": {},
   "outputs": [
    {
     "name": "stdout",
     "output_type": "stream",
     "text": [
      "[20, 15, 10, 5, 0]\n",
      "[21, 16, 11, 6, 1]\n",
      "[22, 17, 12, 7, 2]\n",
      "[23, 18, 13, 8, 3]\n",
      "[24, 19, 14, 9, 4]\n"
     ]
    }
   ],
   "source": [
    "rotate_in_place(matrix)"
   ]
  },
  {
   "cell_type": "markdown",
   "metadata": {},
   "source": [
    "## Ex 6: Reverse a string\n",
    "hello => olleh"
   ]
  },
  {
   "cell_type": "code",
   "execution_count": 19,
   "metadata": {},
   "outputs": [],
   "source": [
    "def reverse_str(s):\n",
    "    return s[::-1]"
   ]
  },
  {
   "cell_type": "code",
   "execution_count": 20,
   "metadata": {},
   "outputs": [
    {
     "data": {
      "text/plain": [
       "'olleh'"
      ]
     },
     "execution_count": 20,
     "metadata": {},
     "output_type": "execute_result"
    }
   ],
   "source": [
    "s = \"hello\"\n",
    "r = reverse_str(s) # O(n)\n",
    "r"
   ]
  },
  {
   "cell_type": "code",
   "execution_count": 21,
   "metadata": {},
   "outputs": [],
   "source": [
    "def reverse_str2(s):\n",
    "    l = list(s)\n",
    "    for i in range(len(s) // 2):\n",
    "        l[i], l[len(s) - 1 - i] = l[len(s) - 1 - i], l[i]\n",
    "        \n",
    "    return ''.join(l)"
   ]
  },
  {
   "cell_type": "code",
   "execution_count": 22,
   "metadata": {},
   "outputs": [
    {
     "data": {
      "text/plain": [
       "'olleh'"
      ]
     },
     "execution_count": 22,
     "metadata": {},
     "output_type": "execute_result"
    }
   ],
   "source": [
    "s = \"hello\"\n",
    "r = reverse_str2(s) # O(n)\n",
    "r"
   ]
  },
  {
   "cell_type": "markdown",
   "metadata": {},
   "source": [
    "## Ex7: Longest consecutive '1's\n",
    "Given a binary array, find the length of the sub-array with most consecutive '1's"
   ]
  },
  {
   "cell_type": "code",
   "execution_count": 23,
   "metadata": {},
   "outputs": [],
   "source": [
    "def find_consecutive_ones(l):\n",
    "    cur_len, max_len = 0, 0\n",
    "    \n",
    "    for i in range(len(l)):\n",
    "        if l[i] == 1:\n",
    "            cur_len += 1\n",
    "        else:\n",
    "            if cur_len > max_len:\n",
    "                max_len = cur_len\n",
    "                cur_len = 0\n",
    "    return max_len"
   ]
  },
  {
   "cell_type": "code",
   "execution_count": 24,
   "metadata": {},
   "outputs": [
    {
     "data": {
      "text/plain": [
       "4"
      ]
     },
     "execution_count": 24,
     "metadata": {},
     "output_type": "execute_result"
    }
   ],
   "source": [
    "nums = [1,1,0,1,1,1,1,0,0,0,0,0,1,1,1,0,0,1]\n",
    "result = find_consecutive_ones(nums)\n",
    "result"
   ]
  },
  {
   "cell_type": "markdown",
   "metadata": {},
   "source": [
    "## Ex8: Maximum element\n",
    "Given an array, there must be a maximum element. Find the maximum element and check if it is at least as two times bigger then any other element in the array."
   ]
  },
  {
   "cell_type": "code",
   "execution_count": 25,
   "metadata": {},
   "outputs": [],
   "source": [
    "def largest_twice(l):\n",
    "    largest, second = l[0], l[0]\n",
    "    pos = 0\n",
    "    \n",
    "    for i in range(1, len(l)):\n",
    "        if l[i] > largest:\n",
    "            second = largest\n",
    "            largest = l[i]\n",
    "            pos = i\n",
    "        elif l[i] > second:\n",
    "            second = l[i]\n",
    "            \n",
    "    return pos if largest / second >= 2 else -1"
   ]
  },
  {
   "cell_type": "code",
   "execution_count": 26,
   "metadata": {},
   "outputs": [
    {
     "data": {
      "text/plain": [
       "3"
      ]
     },
     "execution_count": 26,
     "metadata": {},
     "output_type": "execute_result"
    }
   ],
   "source": [
    "nums = [1, 2, 3, 8, 3, 2, 1]\n",
    "result = largest_twice(nums)\n",
    "result"
   ]
  },
  {
   "cell_type": "markdown",
   "metadata": {},
   "source": [
    "## Ex9: Find missing numbers\n",
    "- Given a integer array where each element is between 1 and n, where n is the size of the array.\n",
    "- The number may appear once or twice in the array. Write a program to find the numbers are missing in the array.\n",
    "- **ADDITION**: can you write a function with space complexity O(1) and time complexity O(n)?"
   ]
  },
  {
   "cell_type": "code",
   "execution_count": 27,
   "metadata": {},
   "outputs": [],
   "source": [
    "# Space complexity O(n)\n",
    "# Time complexity O(n)\n",
    "def find_disappear_numbers1(nums):\n",
    "    n = len(nums)\n",
    "    check = [False] * n\n",
    "    for i in range(n):\n",
    "        check[nums[i] - 1] = True\n",
    "    \n",
    "    res = []\n",
    "    for i, v in enumerate(check):\n",
    "        if not v:\n",
    "            res.append(i + 1)\n",
    "            \n",
    "    return res\n",
    "        "
   ]
  },
  {
   "cell_type": "code",
   "execution_count": 28,
   "metadata": {},
   "outputs": [
    {
     "name": "stdout",
     "output_type": "stream",
     "text": [
      "[5, 6]\n"
     ]
    }
   ],
   "source": [
    "nums = [4,3,2,7,8,2,3,1]\n",
    "print(find_disappear_numbers1(nums))"
   ]
  },
  {
   "cell_type": "code",
   "execution_count": 29,
   "metadata": {},
   "outputs": [],
   "source": [
    "# Space complexity O(1)\n",
    "# Time complexity O(n^2)\n",
    "def find_disappear_numbers2(nums):\n",
    "    res = []\n",
    "    n = len(nums) + 1\n",
    "    \n",
    "    for i in range(1, n):\n",
    "        if i not in nums:\n",
    "            res.append(i)\n",
    "            \n",
    "    return res"
   ]
  },
  {
   "cell_type": "code",
   "execution_count": 30,
   "metadata": {},
   "outputs": [
    {
     "name": "stdout",
     "output_type": "stream",
     "text": [
      "[5, 6]\n"
     ]
    }
   ],
   "source": [
    "nums = [4,3,2,7,8,2,3,1]\n",
    "print(find_disappear_numbers2(nums))"
   ]
  },
  {
   "cell_type": "code",
   "execution_count": 31,
   "metadata": {},
   "outputs": [],
   "source": [
    "# Space complexity O(1)\n",
    "# Time complexity O(n)\n",
    "def find_disappear_numbers3(nums):\n",
    "    res = []\n",
    "    n = len(nums)\n",
    "    for i in range(n):\n",
    "        pos = abs(nums[i]) - 1\n",
    "        if nums[pos] > 0:\n",
    "            nums[pos] = -nums[pos]\n",
    "            \n",
    "    for i, v in enumerate(nums):\n",
    "        if v > 0:\n",
    "            res.append(i + 1)\n",
    "            \n",
    "    return res\n",
    "    "
   ]
  },
  {
   "cell_type": "code",
   "execution_count": 32,
   "metadata": {},
   "outputs": [
    {
     "name": "stdout",
     "output_type": "stream",
     "text": [
      "[5, 6]\n"
     ]
    }
   ],
   "source": [
    "nums = [4,3,2,7,8,2,3,1]\n",
    "print(find_disappear_numbers3(nums))"
   ]
  },
  {
   "cell_type": "markdown",
   "metadata": {},
   "source": [
    "## Ex10: Add one\n",
    "- Given a non-negative integer represented in an array, add one to the integer\n",
    "- You can assume the number does not include leading zeros except the number Zero."
   ]
  },
  {
   "cell_type": "code",
   "execution_count": 33,
   "metadata": {},
   "outputs": [],
   "source": [
    "def add_one(num):\n",
    "    carry = 0\n",
    "    n = len(num)\n",
    "    res = num[::-1]  # reverse the number so easier to compute if there's a carry at the highest position\n",
    "    res.append(0)\n",
    "    res[0] += 1  # Add one at the lowest position\n",
    "    carry = res[0] // 10\n",
    "    res[0] = res[0] % 10\n",
    "    \n",
    "    cur_pos = 1\n",
    "    while carry:\n",
    "        res[cur_pos] += carry\n",
    "        carry = res[cur_pos] // 10\n",
    "        res[cur_pos] = res[cur_pos] % 10\n",
    "        cur_pos += 1\n",
    "        \n",
    "    return res[::-1] if res[-1] >0 else res[:-1][::-1]"
   ]
  },
  {
   "cell_type": "code",
   "execution_count": 34,
   "metadata": {},
   "outputs": [
    {
     "name": "stdout",
     "output_type": "stream",
     "text": [
      "[1, 2, 4]\n",
      "[1, 0, 0, 0]\n"
     ]
    }
   ],
   "source": [
    "digits = [1, 2, 3]\n",
    "print(add_one(digits))\n",
    "digits = [9, 9, 9]\n",
    "print(add_one(digits))"
   ]
  }
 ],
 "metadata": {
  "kernelspec": {
   "display_name": "Python 3",
   "language": "python",
   "name": "python3"
  },
  "language_info": {
   "codemirror_mode": {
    "name": "ipython",
    "version": 3
   },
   "file_extension": ".py",
   "mimetype": "text/x-python",
   "name": "python",
   "nbconvert_exporter": "python",
   "pygments_lexer": "ipython3",
   "version": "3.7.3"
  },
  "toc": {
   "base_numbering": 1,
   "nav_menu": {},
   "number_sections": true,
   "sideBar": true,
   "skip_h1_title": false,
   "title_cell": "Table of Contents",
   "title_sidebar": "Contents",
   "toc_cell": false,
   "toc_position": {
    "height": "calc(100% - 180px)",
    "left": "10px",
    "top": "150px",
    "width": "370.6px"
   },
   "toc_section_display": true,
   "toc_window_display": true
  }
 },
 "nbformat": 4,
 "nbformat_minor": 2
}
