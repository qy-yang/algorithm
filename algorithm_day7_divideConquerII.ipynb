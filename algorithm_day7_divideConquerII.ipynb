{
 "cells": [
  {
   "cell_type": "markdown",
   "metadata": {},
   "source": [
    "## Ex1: Multiple Two Polynomials"
   ]
  },
  {
   "cell_type": "code",
   "execution_count": 1,
   "metadata": {},
   "outputs": [],
   "source": [
    "def mults(A, B):\n",
    "    m, n = len(A), len(B)\n",
    "    res = [0] * (m + n - 1)\n",
    "    for i in range(m):\n",
    "        for j in range(n):\n",
    "            res[i + j] += A[i] * B[j]\n",
    "    return res\n",
    "\n"
   ]
  },
  {
   "cell_type": "code",
   "execution_count": 2,
   "metadata": {},
   "outputs": [
    {
     "name": "stdout",
     "output_type": "stream",
     "text": [
      "[5, 10, 30, 26, 52, 24]\n"
     ]
    }
   ],
   "source": [
    "A = [5, 0, 10, 6]\n",
    "B = [1, 2, 4]\n",
    "print(mults(A, B))"
   ]
  },
  {
   "cell_type": "code",
   "execution_count": 3,
   "metadata": {},
   "outputs": [
    {
     "name": "stdout",
     "output_type": "stream",
     "text": [
      "[ 5 10 30 26 52 24]\n"
     ]
    }
   ],
   "source": [
    "import numpy as np\n",
    "print(np.convolve(A, B))"
   ]
  },
  {
   "cell_type": "markdown",
   "metadata": {},
   "source": [
    "## Ex2: Tank Problem\n",
    "Given a tank with capacity C liters which is completely filled in starting. Everyday tank is filled with l liters of water and in the case of overflow extra water is thrown out. Now on i-th day i liters of water is taken out for drinking. We need to find out the day at which tank will become empty the first time.\n",
    "\n",
    "Examples:\n",
    "\n",
    "Input : Capacity = 5, l = 2\n",
    "\n",
    "Output : 4\n",
    "\n",
    "At the start of 1st day, water in tank = 5 and at the end of the 1st day = (5 - 1) = 4\n",
    "\n",
    "At the start of 2nd day, water in tank = 4 + 2 = 6 but tank capacity is 5 so water = 5 and at the end of the 2nd day = (5 - 2) = 3\n",
    "\n",
    "At the start of 3rd day, water in tank = 3 + 2 = 5 and at the end of the 3rd day = (5 - 3) = 2\n",
    "\n",
    "At the start of 4th day, water in tank = 2 + 2 = 4 and at the end of the 4th day = (4 - 4) = 0\n",
    "\n",
    "So final answer will be 4\n",
    "\n",
    "**Solution**\n",
    "Noted that the tank is full at the begining of the first l+1 days, when the water used is less than the water used. After that, each day the water in the tank will decrease 1 more liter. On the beginning of (l+1+k)th day, the remaining water in the tank is C - k(1 + k)/2, where k(1 + k)/2 = 1 + 2 + 3 + ... +. we need to find the that even after filling l liters water we have water less than l in the tank, i.e. solve C - k(1 + k)/2 <= l for k."
   ]
  },
  {
   "cell_type": "code",
   "execution_count": 4,
   "metadata": {},
   "outputs": [],
   "source": [
    "# O(n)\n",
    "def minDaysToEmpty(C, l):\n",
    "    cur_vol = C\n",
    "    i = 1\n",
    "    while cur_vol > 0:\n",
    "        cur_vol = min(cur_vol + l, C)\n",
    "        cur_vol -= i\n",
    "        i += 1\n",
    "        \n",
    "    return i - 1"
   ]
  },
  {
   "cell_type": "code",
   "execution_count": 5,
   "metadata": {},
   "outputs": [
    {
     "name": "stdout",
     "output_type": "stream",
     "text": [
      "4\n"
     ]
    }
   ],
   "source": [
    "C, l = 5, 2\n",
    "print(minDaysToEmpty(C, l))"
   ]
  },
  {
   "cell_type": "code",
   "execution_count": 6,
   "metadata": {},
   "outputs": [],
   "source": [
    "# O(lgn)\n",
    "def minDaysToEmpty2(C, l):\n",
    "    if l >= C:\n",
    "        return C\n",
    "    \n",
    "    lo, hi = 0, 10e4\n",
    "    \n",
    "    while lo < hi:\n",
    "        mid = int(lo + (hi - lo) / 2)\n",
    "        if C - mid * (1 + mid) // 2 - l > 0:\n",
    "            lo = mid + 1\n",
    "        else:\n",
    "            hi = mid\n",
    "    \n",
    "    return lo + l\n",
    "        "
   ]
  },
  {
   "cell_type": "code",
   "execution_count": 7,
   "metadata": {},
   "outputs": [
    {
     "name": "stdout",
     "output_type": "stream",
     "text": [
      "4\n"
     ]
    }
   ],
   "source": [
    "C, l = 5, 2\n",
    "print(minDaysToEmpty2(C, l))"
   ]
  },
  {
   "cell_type": "markdown",
   "metadata": {},
   "source": [
    "## Ex3: Shuffle Array\n",
    "Given an array of 2n elements in the following format { a1, a2, a3, a4, ….., an, b1, b2, b3, b4, …., bn }. The task is shuffle the array to {a1, b1, a2, b2, a3, b3, ……, an, bn } without using extra space.\n",
    "\n",
    "Examples:\n",
    "\n",
    "Input : arr = { 1, 2, 9, 15 }\n",
    "\n",
    "Output : 1 9 2 15\n",
    "\n",
    "Input : arr = { 1, 2, 3, 4, 5, 6 }\n",
    "\n",
    "Output : 1 4 2 5 3 6"
   ]
  },
  {
   "cell_type": "code",
   "execution_count": 8,
   "metadata": {},
   "outputs": [],
   "source": [
    "# Brute force\n",
    "# O(n^2)\n",
    "def shuffleArray(arr):\n",
    "    n = len(arr) // 2\n",
    "    i, q, k = 0, 1, n\n",
    "    \n",
    "    # rotate the element to the left\n",
    "    while i < n:  # n passes\n",
    "        j = k\n",
    "        while j > i + q:  # while j not reach the target pos\n",
    "            arr[j], arr[j - 1] = arr[j - 1], arr[j]\n",
    "            j -= 1\n",
    "        i += 1\n",
    "        q += 1\n",
    "        k += 1\n",
    "        \n",
    "    return arr"
   ]
  },
  {
   "cell_type": "code",
   "execution_count": 9,
   "metadata": {},
   "outputs": [
    {
     "data": {
      "text/plain": [
       "[1, 2, 3, 4, 5, 6, 7, 8]"
      ]
     },
     "execution_count": 9,
     "metadata": {},
     "output_type": "execute_result"
    }
   ],
   "source": [
    "a = [1, 3, 5, 7, 2, 4, 6, 8] \n",
    "shuffleArray(a)"
   ]
  },
  {
   "cell_type": "code",
   "execution_count": 10,
   "metadata": {},
   "outputs": [],
   "source": [
    "def shuffleArray2(arr, left, right):\n",
    "    if right - left == 1:  # if only two ele\n",
    "        return\n",
    "    \n",
    "    mid = left + (right - left) // 2\n",
    "    l_mid = left + (mid - left) // 2\n",
    "    \n",
    "    arr[l_mid + 1: mid + 1], arr[mid+1: 2 * mid + 1 - l_mid] \\\n",
    "    = arr[mid+1: 2 * mid + 1- l_mid], arr[l_mid + 1: mid + 1]\n",
    "    \n",
    "#     temp = mid + 1\n",
    "#     for i in range(l_mid, mid + 1):\n",
    "#         arr[i], arr[temp] = arr[temp], arr[i]\n",
    "#         temp += 1\n",
    "    \n",
    "    shuffleArray2(arr, left, mid)\n",
    "    shuffleArray2(arr, mid + 1, right)"
   ]
  },
  {
   "cell_type": "code",
   "execution_count": 11,
   "metadata": {},
   "outputs": [
    {
     "name": "stdout",
     "output_type": "stream",
     "text": [
      "[1, 2, 3, 4, 5, 6, 7, 8]\n"
     ]
    }
   ],
   "source": [
    "a = [1, 3, 5, 7, 2, 4, 6, 8] \n",
    "shuffleArray2(a, 0, len(a) - 1)\n",
    "print(a)"
   ]
  },
  {
   "cell_type": "markdown",
   "metadata": {},
   "source": [
    "## Ex4: Collect Coins in Minimum Steps\n",
    "Given many stacks of coins which are arranged adjacently. We need to collect all these coins in the minimum number of steps where in one step we can collect one horizontal line of coins or vertical line of coins and collected coins should be continuous.\n",
    "\n",
    "Examples:\n",
    "\n",
    "Input : height[] = [2 1 2 5 1]\n",
    "\n",
    "Each value of this array corresponds to the height of stack that is we are given five stack of coins, where in first stack 2 coins are there then in second stack 1 coin is there and so on."
   ]
  },
  {
   "cell_type": "code",
   "execution_count": 12,
   "metadata": {},
   "outputs": [],
   "source": [
    "def min_steps(height):\n",
    "    \n",
    "    def min_step_helper(height, left, right, h):\n",
    "        if left >= right:\n",
    "            return 0\n",
    "        \n",
    "        # find the min height in the array\n",
    "        m = left\n",
    "        for i in range(left, right):\n",
    "            if height[m] > height[i]:\n",
    "                m = i\n",
    "                \n",
    "        return min(right - left, \n",
    "                   min_step_helper(height, left, m, height[m]) \n",
    "                   + min_step_helper(height, m + 1, right, height[m]) \n",
    "                   + height[m] - h)\n",
    "    \n",
    "    return min_step_helper(height, 0, len(height) - 1, 0)"
   ]
  },
  {
   "cell_type": "code",
   "execution_count": 13,
   "metadata": {},
   "outputs": [
    {
     "data": {
      "text/plain": [
       "4"
      ]
     },
     "execution_count": 13,
     "metadata": {},
     "output_type": "execute_result"
    }
   ],
   "source": [
    "height = [3, 1, 2, 5, 1]\n",
    "min_steps(height)"
   ]
  },
  {
   "cell_type": "code",
   "execution_count": null,
   "metadata": {},
   "outputs": [],
   "source": []
  }
 ],
 "metadata": {
  "kernelspec": {
   "display_name": "Python 3",
   "language": "python",
   "name": "python3"
  },
  "language_info": {
   "codemirror_mode": {
    "name": "ipython",
    "version": 3
   },
   "file_extension": ".py",
   "mimetype": "text/x-python",
   "name": "python",
   "nbconvert_exporter": "python",
   "pygments_lexer": "ipython3",
   "version": "3.7.3"
  },
  "toc": {
   "base_numbering": 1,
   "nav_menu": {},
   "number_sections": true,
   "sideBar": true,
   "skip_h1_title": false,
   "title_cell": "Table of Contents",
   "title_sidebar": "Contents",
   "toc_cell": false,
   "toc_position": {
    "height": "calc(100% - 180px)",
    "left": "10px",
    "top": "150px",
    "width": "370.6px"
   },
   "toc_section_display": true,
   "toc_window_display": true
  }
 },
 "nbformat": 4,
 "nbformat_minor": 2
}
