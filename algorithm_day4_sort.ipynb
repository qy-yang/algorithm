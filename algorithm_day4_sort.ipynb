{
 "cells": [
  {
   "cell_type": "markdown",
   "metadata": {},
   "source": [
    "# Search"
   ]
  },
  {
   "cell_type": "code",
   "execution_count": 1,
   "metadata": {},
   "outputs": [],
   "source": [
    "def binary_search_iter(nums, target):\n",
    "    l, r = 0, len(nums) - 1\n",
    "    while l <= r:\n",
    "        m = l + (r - l) // 2  #(l + r) // 2\n",
    "        if nums[m] == target:\n",
    "            return m\n",
    "        elif nums[m] < target:\n",
    "            l = m + 1\n",
    "        else:\n",
    "            r = m - 1\n",
    "    return -1"
   ]
  },
  {
   "cell_type": "code",
   "execution_count": 2,
   "metadata": {},
   "outputs": [
    {
     "name": "stdout",
     "output_type": "stream",
     "text": [
      "4\n",
      "-1\n"
     ]
    }
   ],
   "source": [
    "num_list = [1,2,3,5,7,8,9]\n",
    "print(binary_search_iter(num_list, 7))\n",
    "print(binary_search_iter(num_list, 4))"
   ]
  },
  {
   "cell_type": "code",
   "execution_count": 3,
   "metadata": {},
   "outputs": [],
   "source": [
    "def binary_search_recursive(nums, target):\n",
    "    def binary_search_helper(l, r):\n",
    "        if l > r: \n",
    "            return -1\n",
    "        \n",
    "        m = l + (r - l) // 2\n",
    "        if nums[m] == target:\n",
    "            return m\n",
    "        elif nums[m] > target:\n",
    "            return binary_search_helper(l, m - 1)\n",
    "        else:\n",
    "            return binary_search_helper(m + 1, r)\n",
    "    return binary_search_helper(0, len(nums) - 1)"
   ]
  },
  {
   "cell_type": "code",
   "execution_count": 4,
   "metadata": {},
   "outputs": [
    {
     "name": "stdout",
     "output_type": "stream",
     "text": [
      "4\n",
      "-1\n"
     ]
    }
   ],
   "source": [
    "num_list = [1,2,3,5,7,8,9]\n",
    "print(binary_search_recursive(num_list, 7))\n",
    "print(binary_search_recursive(num_list, 4))"
   ]
  },
  {
   "cell_type": "markdown",
   "metadata": {},
   "source": [
    "# Sort"
   ]
  },
  {
   "cell_type": "code",
   "execution_count": 5,
   "metadata": {},
   "outputs": [],
   "source": [
    "# bubble sort\n",
    "def bubble_sort(nums):\n",
    "    for i in range(len(nums)):\n",
    "        for j in range(1, len(nums) - i):\n",
    "            if nums[j] < nums[j - 1]:\n",
    "                nums[j], nums[j - 1] = nums[j - 1], nums[j]\n",
    "    return nums"
   ]
  },
  {
   "cell_type": "code",
   "execution_count": 6,
   "metadata": {},
   "outputs": [
    {
     "name": "stdout",
     "output_type": "stream",
     "text": [
      "[0, 1, 2, 3, 4, 5, 6, 7, 8, 9]\n"
     ]
    }
   ],
   "source": [
    "l = [1, 3, 5, 7, 9, 2, 4, 6, 8, 0]\n",
    "bubble_sort(l)\n",
    "print(l)"
   ]
  },
  {
   "cell_type": "code",
   "execution_count": 7,
   "metadata": {},
   "outputs": [],
   "source": [
    "def bubble_sort_mod(nums):\n",
    "    for i in range(len(nums)):\n",
    "        is_sort = True\n",
    "        for j in range(len(nums) - i - 1):\n",
    "            if nums[j] > nums[j + 1]:\n",
    "                nums[j], nums[j + 1] = nums[j + 1], nums[j]\n",
    "                is_sort = False\n",
    "        if is_sort: break\n",
    "    return nums"
   ]
  },
  {
   "cell_type": "code",
   "execution_count": 8,
   "metadata": {},
   "outputs": [
    {
     "name": "stdout",
     "output_type": "stream",
     "text": [
      "[0, 1, 2, 3, 4, 5, 6, 7, 8, 9]\n"
     ]
    }
   ],
   "source": [
    "l = [1, 3, 5, 7, 9, 2, 4, 6, 8, 0]\n",
    "bubble_sort_mod(l)\n",
    "print(l)"
   ]
  },
  {
   "cell_type": "code",
   "execution_count": 9,
   "metadata": {},
   "outputs": [],
   "source": [
    "def selection_sort(nums):\n",
    "    for i in range(len(nums)):\n",
    "        max_idx = 0\n",
    "        for j in range(len(nums) - i):\n",
    "            if nums[max_idx] < nums[j]:\n",
    "                max_idx = j\n",
    "        nums[j], nums[max_idx] = nums[max_idx], nums[j]\n",
    "    return nums    \n",
    "    "
   ]
  },
  {
   "cell_type": "code",
   "execution_count": 10,
   "metadata": {},
   "outputs": [
    {
     "name": "stdout",
     "output_type": "stream",
     "text": [
      "[0, 1, 2, 3, 4, 5, 6, 7, 8, 9]\n"
     ]
    }
   ],
   "source": [
    "l = [1, 3, 5, 7, 9, 2, 4, 6, 8, 0]\n",
    "selection_sort(l)\n",
    "print(l)"
   ]
  },
  {
   "cell_type": "code",
   "execution_count": 11,
   "metadata": {},
   "outputs": [],
   "source": [
    "def insert_sort(nums):\n",
    "    for sorted_idx in range(1, len(nums)):\n",
    "        unsorted_idx = sorted_idx\n",
    "        while unsorted_idx > 0 and nums[unsorted_idx] < nums[unsorted_idx - 1]:\n",
    "            nums[unsorted_idx], nums[unsorted_idx - 1] = nums[unsorted_idx - 1], nums[unsorted_idx]\n",
    "            unsorted_idx -= 1\n",
    "    return nums"
   ]
  },
  {
   "cell_type": "code",
   "execution_count": 12,
   "metadata": {},
   "outputs": [
    {
     "name": "stdout",
     "output_type": "stream",
     "text": [
      "[0, 1, 2, 3, 4, 5, 6, 7, 8, 9]\n"
     ]
    }
   ],
   "source": [
    "l = [1, 3, 5, 7, 9, 2, 4, 6, 8, 0]\n",
    "insert_sort(l)\n",
    "print(l)"
   ]
  },
  {
   "cell_type": "code",
   "execution_count": 13,
   "metadata": {},
   "outputs": [],
   "source": [
    "def count_sort(nums):\n",
    "    nmax, nmin = nums[0], nums[0]\n",
    "    for i in range(1, len(nums)):\n",
    "        if nmax < nums[i]:\n",
    "            nmax = nums[i]\n",
    "        if nmin > nums[i]:\n",
    "            nmin = nums[i]\n",
    "            \n",
    "    length = nmax - nmin + 1\n",
    "    counts = [0] * length\n",
    "    for i in range(len(nums)):\n",
    "        counts[nums[i] - nmin] += 1\n",
    "    \n",
    "    pos = 0\n",
    "    for i in range(length):\n",
    "        for j in range(counts[i]):\n",
    "            nums[pos] = i + nmin\n",
    "            pos += 1            \n",
    "    return nums"
   ]
  },
  {
   "cell_type": "code",
   "execution_count": 14,
   "metadata": {},
   "outputs": [
    {
     "name": "stdout",
     "output_type": "stream",
     "text": [
      "[0, 1, 2, 3, 4, 5, 6, 7, 8, 9]\n"
     ]
    }
   ],
   "source": [
    "l = [1, 3, 5, 7, 9, 2, 4, 6, 8, 0]\n",
    "count_sort(l)\n",
    "print(l)"
   ]
  },
  {
   "cell_type": "code",
   "execution_count": 15,
   "metadata": {},
   "outputs": [],
   "source": [
    "def merge_sort(nums):\n",
    "    if len(nums) <= 1:\n",
    "        return nums\n",
    "    m = len(nums) // 2\n",
    "    a = merge_sort(nums[:m])\n",
    "    b = merge_sort(nums[m:])\n",
    "    return merge(a, b)\n",
    "\n",
    "def merge(a, b):\n",
    "    i, j = 0, 0\n",
    "    tmp = []\n",
    "    while i < len(a) and j < len(b):\n",
    "        if a[i] < b[j]:\n",
    "            tmp.append(a[i])\n",
    "            i += 1\n",
    "        else:\n",
    "            tmp.append(b[j])\n",
    "            j += 1\n",
    "            \n",
    "    if i < len(a):\n",
    "        tmp += a[i:]\n",
    "    elif j < len(b):\n",
    "        tmp += b[j:]\n",
    "        \n",
    "    return tmp"
   ]
  },
  {
   "cell_type": "code",
   "execution_count": 16,
   "metadata": {},
   "outputs": [
    {
     "data": {
      "text/plain": [
       "[0, 1, 2, 3, 4, 5, 6, 7, 8, 9]"
      ]
     },
     "execution_count": 16,
     "metadata": {},
     "output_type": "execute_result"
    }
   ],
   "source": [
    "l = [1, 3, 5, 7, 9, 2, 4, 6, 8, 0]\n",
    "merge_sort(l)"
   ]
  },
  {
   "cell_type": "code",
   "execution_count": 17,
   "metadata": {},
   "outputs": [],
   "source": [
    "def quick_sort(nums):\n",
    "    if len(nums) <= 1:\n",
    "        return nums\n",
    "    pivot = nums[0]\n",
    "    left = quick_sort([x for x in nums[1:] if x < pivot])\n",
    "    right = quick_sort([x for x in nums[1:] if x >= pivot])\n",
    "    return left + [pivot] + right\n",
    "    "
   ]
  },
  {
   "cell_type": "code",
   "execution_count": 18,
   "metadata": {},
   "outputs": [
    {
     "data": {
      "text/plain": [
       "[0, 1, 2, 3, 4, 5, 6, 7, 8, 9]"
      ]
     },
     "execution_count": 18,
     "metadata": {},
     "output_type": "execute_result"
    }
   ],
   "source": [
    "l = [1, 3, 5, 7, 9, 2, 4, 6, 8, 0]\n",
    "quick_sort(l)"
   ]
  },
  {
   "cell_type": "code",
   "execution_count": null,
   "metadata": {},
   "outputs": [],
   "source": []
  }
 ],
 "metadata": {
  "kernelspec": {
   "display_name": "Python 3",
   "language": "python",
   "name": "python3"
  },
  "language_info": {
   "codemirror_mode": {
    "name": "ipython",
    "version": 3
   },
   "file_extension": ".py",
   "mimetype": "text/x-python",
   "name": "python",
   "nbconvert_exporter": "python",
   "pygments_lexer": "ipython3",
   "version": "3.7.3"
  },
  "toc": {
   "base_numbering": 1,
   "nav_menu": {},
   "number_sections": true,
   "sideBar": true,
   "skip_h1_title": false,
   "title_cell": "Table of Contents",
   "title_sidebar": "Contents",
   "toc_cell": false,
   "toc_position": {},
   "toc_section_display": true,
   "toc_window_display": true
  }
 },
 "nbformat": 4,
 "nbformat_minor": 2
}
