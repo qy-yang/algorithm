{
 "cells": [
  {
   "cell_type": "code",
   "execution_count": 1,
   "metadata": {},
   "outputs": [],
   "source": [
    "from LinkedList import LinkedList, Node"
   ]
  },
  {
   "cell_type": "markdown",
   "metadata": {},
   "source": [
    "## Ex1: Merge Two Sorted Lists</a>\n",
    "\n",
    "Merge two sorted linked lists and return it as a new list.\n",
    "\n",
    "Input: 1->2->4, 1->3->4\n",
    "\n",
    "Output: 1->1->2->3->4->4"
   ]
  },
  {
   "cell_type": "code",
   "execution_count": 2,
   "metadata": {},
   "outputs": [],
   "source": [
    "def mergeTwoLists1(l1, l2):\n",
    "    dummy = cur = Node()\n",
    "    while l1 and l2:  # l1 is not None and l2 is not None\n",
    "        if l1.value < l2.value:\n",
    "            cur.next = l1\n",
    "            l1 = l1.next\n",
    "        else:\n",
    "            cur.next = l2\n",
    "            l2 = l2.next\n",
    "        cur = cur.next\n",
    "        \n",
    "#     if l1:\n",
    "#         cur.next = l1\n",
    "        \n",
    "#     if l2:\n",
    "#         cur.next = l2\n",
    "    cur.next = l1 or l2\n",
    "        \n",
    "    return dummy.next"
   ]
  },
  {
   "cell_type": "code",
   "execution_count": 3,
   "metadata": {},
   "outputs": [
    {
     "name": "stdout",
     "output_type": "stream",
     "text": "1 1 2 3 4 4 \n"
    }
   ],
   "source": [
    "node11 = Node(1)\n",
    "node12 = Node(2)\n",
    "node14 = Node(4)\n",
    "node11.next = node12\n",
    "node12.next = node14\n",
    "\n",
    "node21 = Node(1)\n",
    "node23 = Node(3)\n",
    "node24 = Node(4)\n",
    "node21.next = node23\n",
    "node23.next = node24\n",
    "\n",
    "node = mergeTwoLists1(node11, node21)\n",
    "lst = LinkedList()\n",
    "lst.head.next = node\n",
    "lst.print_list()"
   ]
  },
  {
   "cell_type": "code",
   "execution_count": 4,
   "metadata": {},
   "outputs": [],
   "source": [
    "def mergeTwoLists2(l1, l2):\n",
    "    if l1 is None:\n",
    "        return l2\n",
    "    elif l2 is None:\n",
    "        return l1\n",
    "\n",
    "    # Above code equivalent to below:\n",
    "#     if not l1 or not l2:\n",
    "#         return l1 or l2\n",
    "    \n",
    "    if l1.value < l2.value:\n",
    "        l1.next = mergeTwoLists2(l1.next, l2)\n",
    "        return l1\n",
    "    else:\n",
    "        l2.next = mergeTwoLists2(l1, l2.next)\n",
    "        return l2"
   ]
  },
  {
   "cell_type": "code",
   "execution_count": 5,
   "metadata": {},
   "outputs": [
    {
     "name": "stdout",
     "output_type": "stream",
     "text": "1 1 2 3 4 4 \n"
    }
   ],
   "source": [
    "node11 = Node(1)\n",
    "node12 = Node(2)\n",
    "node14 = Node(4)\n",
    "node11.next = node12\n",
    "node12.next = node14\n",
    "\n",
    "node21 = Node(1)\n",
    "node23 = Node(3)\n",
    "node24 = Node(4)\n",
    "node21.next = node23\n",
    "node23.next = node24\n",
    "\n",
    "node = mergeTwoLists2(node11, node21)\n",
    "lst = LinkedList()\n",
    "lst.head.next = node\n",
    "lst.print_list()"
   ]
  },
  {
   "cell_type": "markdown",
   "metadata": {},
   "source": [
    "## Ex2: Intersection of Two Linked Lists\n",
    "Write a program to find the node at which the intersection of two singly linked lists begins.\n",
    "\n",
    "For example, the following two linked lists:\n",
    "\n",
    "A: a1 → a2\n",
    "\n",
    "               ↘\n",
    "\n",
    "                 c1 → c2 → c3\n",
    "\n",
    "               ↗    \n",
    "B: b1 → b2 → b3\n",
    "\n",
    "begin to intersect at node c1."
   ]
  },
  {
   "cell_type": "code",
   "execution_count": 6,
   "metadata": {},
   "outputs": [],
   "source": [
    "# Sol 1: get the length diff of two lists\n",
    "\n",
    "def getIntersectionNode1(l1, l2):\n",
    "    # shorter list will be traversed first\n",
    "    curA, curB = l1, l2\n",
    "    lenA, lenB = 0, 0\n",
    "    while curA:\n",
    "        lenA += 1\n",
    "        curA = curA.next\n",
    "    while curB:\n",
    "        lenB += 1\n",
    "        curB = curB.next\n",
    "    \n",
    "    curA, curB = l1, l2\n",
    "    if lenA > lenB:\n",
    "        for i in range(lenA - lenB):\n",
    "            curA = curA.next\n",
    "    else:\n",
    "        for i in range(lenB - lenA):\n",
    "            curB = curB.next\n",
    "    \n",
    "    while curA != curB:\n",
    "        curA = curA.next\n",
    "        curB = curB.next\n",
    "        \n",
    "    return curA\n",
    "    "
   ]
  },
  {
   "cell_type": "code",
   "execution_count": 7,
   "metadata": {},
   "outputs": [],
   "source": [
    "def getIntersectionNode2(l1, l2):\n",
    "    curA, curB = l1, l2\n",
    "    while curA != curB:\n",
    "        curA = curA.next if curA else l2\n",
    "        curB = curB.next if curB else l1\n",
    "        \n",
    "    return curA"
   ]
  },
  {
   "cell_type": "markdown",
   "metadata": {},
   "source": [
    "## Ex3: Insertion Sort List\n",
    "\n",
    "Implement insertion sort by linked list"
   ]
  },
  {
   "cell_type": "code",
   "execution_count": 8,
   "metadata": {},
   "outputs": [],
   "source": [
    "def insertionSortList(head):\n",
    "    dummy = Node()  # dummy is used to point to the head of the linked list\n",
    "    cur = head\n",
    "    # pre is sorted part\n",
    "    # cur is unsorted part to be checked\n",
    "    while cur:\n",
    "        pre = dummy  # pre started from dummy each iteration\n",
    "        while pre.next and pre.next.value < cur.value:  # pre.next is not None is to traverse until end of the linked list\n",
    "            pre = pre.next\n",
    "        temp = cur.next\n",
    "        cur.next = pre.next\n",
    "        pre.next = cur\n",
    "        cur = temp\n",
    "    return dummy.next\n",
    "        "
   ]
  },
  {
   "cell_type": "code",
   "execution_count": 9,
   "metadata": {},
   "outputs": [
    {
     "name": "stdout",
     "output_type": "stream",
     "text": "-9 1 -13 6 5 \n-13 -9 1 5 6 \n"
    }
   ],
   "source": [
    "node1 = Node(-9)\n",
    "node2 = Node(1)\n",
    "node3 = Node(-13)\n",
    "node4 = Node(6)\n",
    "node5 = Node(5)\n",
    "node1.next = node2\n",
    "node2.next = node3\n",
    "node3.next = node4\n",
    "node4.next = node5\n",
    "lst = LinkedList()\n",
    "lst.head.next = node1\n",
    "lst.print_list()\n",
    "\n",
    "node = insertionSortList(node1)\n",
    "\n",
    "lst.head.next = node\n",
    "lst.print_list()"
   ]
  },
  {
   "cell_type": "markdown",
   "execution_count": null,
   "metadata": {},
   "outputs": [],
   "source": [
    "## Ex4: Sort List\n",
    "Sort a linked list in O(n log n) time using constant space complexity."
   ]
  },
  {
   "cell_type": "code",
   "execution_count": 10,
   "metadata": {},
   "outputs": [],
   "source": [
    "def sortList(head):\n",
    "    if head is None or head.next is None:\n",
    "        return head\n",
    "    mid = get_middle(head)\n",
    "    rHead = mid.next\n",
    "    mid.next = None  # split to two list, otherwise left part will not end\n",
    "    return merge(sortList(head), sortList(rHead))\n",
    "\n",
    "def merge(rHead, lHead):\n",
    "    dummy_node = dummy_head = Node()\n",
    "    while rHead and lHead:\n",
    "        if lHead.value <= rHead.value:\n",
    "            dummy_head.next = lHead\n",
    "            lHead = lHead.next\n",
    "        else:\n",
    "            dummy_head.next = rHead\n",
    "            rHead = rHead.next\n",
    "        dummy_head = dummy_head.next\n",
    "    dummy_head.next = lHead or rHead\n",
    "    return dummy_node.next\n",
    "\n",
    "def get_middle(head):\n",
    "    if not head:\n",
    "        return head\n",
    "    slow = fast = head\n",
    "    while fast.next and fast.next.next:\n",
    "        slow = slow.next\n",
    "        fast = fast.next.next\n",
    "    return slow\n",
    "    "
   ]
  },
  {
   "cell_type": "code",
   "execution_count": 11,
   "metadata": {},
   "outputs": [
    {
     "name": "stdout",
     "output_type": "stream",
     "text": "1 5 6 9 13 \n"
    }
   ],
   "source": [
    "node1 = Node(9)\n",
    "node2 = Node(1)\n",
    "node3 = Node(13)\n",
    "node4 = Node(6)\n",
    "node5 = Node(5)\n",
    "node1.next = node2\n",
    "node2.next = node3\n",
    "node3.next = node4\n",
    "node4.next = node5\n",
    "node = sortList(node1)\n",
    "lst = LinkedList()\n",
    "lst.head.next = node\n",
    "lst.print_list()"
   ]
  },
  {
   "cell_type": "markdown",
   "execution_count": null,
   "metadata": {},
   "outputs": [],
   "source": [
    "## Ex5: Partition List\n",
    "Given a linked list and a value x, partition it such that all nodes less than x come before nodes greater than or equal to x."
   ]
  },
  {
   "cell_type": "code",
   "execution_count": 12,
   "metadata": {},
   "outputs": [],
   "source": [
    "def partition(head, x):\n",
    "    lHead, rHead = Node(), Node()\n",
    "    left, right = lHead, rHead\n",
    "    while head:\n",
    "        if head.value < x:\n",
    "            left.next = head\n",
    "            left = left.next\n",
    "        else:\n",
    "            right.next = head\n",
    "            right = right.next\n",
    "        head = head.next\n",
    "    right.next = None  # set right tail to None\n",
    "    left.next = rHead.next\n",
    "    return lHead\n",
    "\n",
    "        "
   ]
  },
  {
   "cell_type": "code",
   "execution_count": 13,
   "metadata": {},
   "outputs": [
    {
     "name": "stdout",
     "output_type": "stream",
     "text": "None 1 2 2 4 3 5 \n"
    }
   ],
   "source": [
    "#head = 1->4->3->2->5->2, x = 3\n",
    "node1 = Node(1)\n",
    "node2 = Node(4)\n",
    "node3 = Node(3)\n",
    "node4 = Node(2)\n",
    "node5 = Node(5)\n",
    "node6 = Node(2)\n",
    "node1.next = node2\n",
    "node2.next = node3\n",
    "node3.next = node4\n",
    "node4.next = node5\n",
    "node5.next = node6\n",
    "node = partition(node1, 3)\n",
    "lst = LinkedList()\n",
    "lst.head.next = node\n",
    "lst.print_list()"
   ]
  },
  {
   "cell_type": "markdown",
   "execution_count": null,
   "metadata": {},
   "outputs": [],
   "source": [
    "## Ex6: Reverse a Linked List"
   ]
  },
  {
   "cell_type": "code",
   "execution_count": 14,
   "metadata": {},
   "outputs": [],
   "source": [
    "def reverseList(lst):\n",
    "    head = lst.head\n",
    "    cur = lst.head.next\n",
    "    pre = None\n",
    "    nxt = cur.next\n",
    "\n",
    "    while nxt:\n",
    "        cur.next = pre\n",
    "        pre = cur\n",
    "        cur = nxt\n",
    "        nxt = cur.next\n",
    "    cur.next = pre\n",
    "    head.next = cur"
   ]
  },
  {
   "cell_type": "code",
   "execution_count": 15,
   "metadata": {},
   "outputs": [
    {
     "name": "stdout",
     "output_type": "stream",
     "text": "1 3 5 7 9 \n9 7 5 3 1 \n"
    }
   ],
   "source": [
    "lst = LinkedList()\n",
    "lst.add_last(1)\n",
    "lst.add_last(3)\n",
    "lst.add_last(5)\n",
    "lst.add_last(7)\n",
    "lst.add_last(9)\n",
    "lst.print_list()\n",
    "reverseList(lst)\n",
    "lst.print_list()"
   ]
  },
  {
   "cell_type": "code",
   "execution_count": 16,
   "metadata": {},
   "outputs": [],
   "source": [
    "def reverse2(lst):\n",
    "    head = lst.head\n",
    "    cur = lst.head.next\n",
    "    res = None\n",
    "    \n",
    "    while cur:\n",
    "        nxt = cur.next\n",
    "        cur.next = res\n",
    "        res = cur\n",
    "        cur = nxt\n",
    "    head.next = res\n",
    "    "
   ]
  },
  {
   "cell_type": "code",
   "execution_count": 17,
   "metadata": {},
   "outputs": [
    {
     "name": "stdout",
     "output_type": "stream",
     "text": "1 3 5 7 9 \n9 7 5 3 1 \n"
    }
   ],
   "source": [
    "lst = LinkedList()\n",
    "lst.add_last(1)\n",
    "lst.add_last(3)\n",
    "lst.add_last(5)\n",
    "lst.add_last(7)\n",
    "lst.add_last(9)\n",
    "lst.print_list()\n",
    "reverse2(lst)\n",
    "lst.print_list()"
   ]
  },
  {
   "cell_type": "code",
   "execution_count": 18,
   "metadata": {},
   "outputs": [],
   "source": [
    "def reverseListRecursion(node):\n",
    "    if not node or not node.next:\n",
    "        return node\n",
    "    pre = reverseListRecursion(node.next)\n",
    "    node.next.next = node\n",
    "    node.next = None\n",
    "    return pre\n",
    "    "
   ]
  },
  {
   "cell_type": "code",
   "execution_count": 19,
   "metadata": {},
   "outputs": [
    {
     "name": "stdout",
     "output_type": "stream",
     "text": "1 3 5 7 9 \n9 7 5 3 1 \n"
    }
   ],
   "source": [
    "lst = LinkedList()\n",
    "lst.add_last(1)\n",
    "lst.add_last(3)\n",
    "lst.add_last(5)\n",
    "lst.add_last(7)\n",
    "lst.add_last(9)\n",
    "lst.print_list()\n",
    "lst.head.next = reverseListRecursion(lst.head.next)\n",
    "lst.print_list()"
   ]
  },
  {
   "cell_type": "code",
   "execution_count": 20,
   "metadata": {},
   "outputs": [],
   "source": [
    "def reverseShort(head):\n",
    "    cur = head\n",
    "    rev = None\n",
    "\n",
    "    while cur:\n",
    "        rev, rev.next, cur = cur, rev, cur.next\n",
    "    \n",
    "    return rev"
   ]
  },
  {
   "cell_type": "code",
   "execution_count": 21,
   "metadata": {},
   "outputs": [
    {
     "name": "stdout",
     "output_type": "stream",
     "text": "1 3 5 7 9 \n9 7 5 3 1 \n"
    }
   ],
   "source": [
    "lst = LinkedList()\n",
    "lst.add_last(1)\n",
    "lst.add_last(3)\n",
    "lst.add_last(5)\n",
    "lst.add_last(7)\n",
    "lst.add_last(9)\n",
    "lst.print_list()\n",
    "lst.head.next = reverseShort(lst.head.next)\n",
    "lst.print_list()"
   ]
  },
  {
   "cell_type": "markdown",
   "execution_count": null,
   "metadata": {},
   "outputs": [],
   "source": [
    "## Ex7: Reverse a Linked List II\n",
    "Reverse a linked list from position m to n. Do it in-place and in one-pass.\n",
    "\n",
    "For example:\n",
    "\n",
    "Given 1->2->3->4->5->NULL, m = 2 and n = 4,\n",
    "\n",
    "return 1->4->3->2->5->NULL."
   ]
  },
  {
   "cell_type": "code",
   "execution_count": 22,
   "metadata": {},
   "outputs": [],
   "source": [
    "def reverseBetween(head, m, n):\n",
    "    if not head or not head.next or m == n:\n",
    "        return head\n",
    "\n",
    "    dummy = Node()\n",
    "    dummy.next = head\n",
    "    pre = dummy\n",
    "    for _ in range(m - 1):\n",
    "        pre = pre.next\n",
    "\n",
    "    cur = pre.next\n",
    "    res = None        \n",
    "    for _ in range(n - m + 1):\n",
    "        temp = cur.next\n",
    "        cur.next = res\n",
    "        res = cur\n",
    "        cur = temp\n",
    "\n",
    "    pre.next.next = cur\n",
    "    pre.next = res\n",
    "    \n",
    "    return dummy.next"
   ]
  },
  {
   "cell_type": "code",
   "execution_count": 23,
   "metadata": {},
   "outputs": [
    {
     "name": "stdout",
     "output_type": "stream",
     "text": "1 3 5 7 9 \n1 7 5 3 9 \n3 5 7 1 9 \n7 5 3 1 9 \n"
    }
   ],
   "source": [
    "lst = LinkedList()\n",
    "lst.add_last(1)\n",
    "lst.add_last(3)\n",
    "lst.add_last(5)\n",
    "lst.add_last(7)\n",
    "lst.add_last(9)\n",
    "lst.print_list()\n",
    "lst.head.next = reverseBetween(lst.head.next, 2, 4)\n",
    "lst.print_list()\n",
    "lst.head.next = reverseBetween(lst.head.next, 1, 4)\n",
    "lst.print_list()\n",
    "lst.head.next = reverseBetween(lst.head.next, 1, 3)\n",
    "lst.print_list()"
   ]
  },
  {
   "cell_type": "code",
   "execution_count": 24,
   "metadata": {},
   "outputs": [],
   "source": [
    "def myReverseBetween(lst, m, n):\n",
    "    head = pre = lst.head\n",
    "    for _ in range(m - 1):\n",
    "        pre = pre.next\n",
    "\n",
    "    cur = pre.next\n",
    "    res = None\n",
    "    for _ in range(n - m + 1):\n",
    "        nxt = cur.next\n",
    "        cur.next = res\n",
    "        res = cur\n",
    "        cur = nxt\n",
    "\n",
    "    pre.next.next = nxt\n",
    "    pre.next = res\n",
    "\n",
    "    return pre"
   ]
  },
  {
   "cell_type": "code",
   "execution_count": 25,
   "metadata": {},
   "outputs": [
    {
     "name": "stdout",
     "output_type": "stream",
     "text": "1 3 5 7 9 \n1 7 5 3 9 \n"
    }
   ],
   "source": [
    "lst = LinkedList()\n",
    "lst.add_last(1)\n",
    "lst.add_last(3)\n",
    "lst.add_last(5)\n",
    "lst.add_last(7)\n",
    "lst.add_last(9)\n",
    "lst.print_list()\n",
    "lst.head.next = myReverseBetween(lst, 2, 4)\n",
    "lst.print_list()"
   ]
  },
  {
   "cell_type": "markdown",
   "execution_count": null,
   "metadata": {},
   "outputs": [],
   "source": [
    "## Ex8: Reverse a Linked List III\n",
    "Swap Nodes in Pairs\n",
    "\n",
    "Given a linked list, swap every two adjacent nodes and return its head.\n",
    "\n",
    "For example,\n",
    "\n",
    "Given 1->2->3->4, you should return the list as 2->1->4->3.\n",
    "\n",
    "Your algorithm should use only constant space. You may not modify the values in the list, only nodes itself can be changed."
   ]
  },
  {
   "cell_type": "code",
   "execution_count": 26,
   "metadata": {},
   "outputs": [],
   "source": [
    "def mySwapPairs(lst):\n",
    "    dummy = cur = lst.head\n",
    "\n",
    "    while cur.next and cur.next.next:\n",
    "        p1 = cur.next\n",
    "        p2 = cur.next.next\n",
    "        cur.next = p2\n",
    "        p1.next = p2.next\n",
    "        p2.next = p1\n",
    "        cur = cur.next.next\n",
    "    return dummy\n"
   ]
  },
  {
   "cell_type": "code",
   "execution_count": 27,
   "metadata": {},
   "outputs": [
    {
     "name": "stdout",
     "output_type": "stream",
     "text": "1 2 3 4 \n2 1 4 3 \n"
    }
   ],
   "source": [
    "lst = LinkedList()\n",
    "lst.add_last(1)\n",
    "lst.add_last(2)\n",
    "lst.add_last(3)\n",
    "lst.add_last(4)\n",
    "lst.print_list()\n",
    "mySwapPairs(lst)\n",
    "lst.print_list()"
   ]
  },
  {
   "cell_type": "markdown",
   "execution_count": null,
   "metadata": {},
   "outputs": [],
   "source": [
    "## Ex9: Reverse a Linked List IV\n",
    "Reverse Nodes in k-Group\n",
    "\n",
    "Given a linked list, reverse the nodes of a linked list k at a time and return its modified list.\n",
    "\n",
    "k is a positive integer and is less than or equal to the length of the linked list. If the number of nodes is not a multiple of k then left-out nodes in the end should remain as it is.\n",
    "\n",
    "You may not alter the values in the nodes, only nodes itself may be changed.\n",
    "\n",
    "Only constant memory is allowed.\n",
    "\n",
    "For example,\n",
    "\n",
    "Given this linked list: 1->2->3->4->5\n",
    "\n",
    "For k = 2, you should return: 2->1->4->3->5\n",
    "\n",
    "For k = 3, you should return: 3->2->1->4->5"
   ]
  },
  {
   "cell_type": "code",
   "execution_count": 28,
   "metadata": {},
   "outputs": [],
   "source": [
    "def reverseGroup(lst, k):\n",
    "    pass\n",
    "        "
   ]
  },
  {
   "cell_type": "markdown",
   "execution_count": null,
   "metadata": {},
   "outputs": [],
   "source": [
    "## Ex10: Palindrome Linked List\n",
    "Given a singly linked list, determine if it is a palindrome.\n",
    "\n",
    "Could you do it in O(n) time and O(1) space?"
   ]
  },
  {
   "cell_type": "code",
   "execution_count": 29,
   "metadata": {},
   "outputs": [],
   "source": [
    "def isPalindrome(lst):\n",
    "    \n",
    "    head = slow = fast = lst.head.next\n",
    "\n",
    "    while fast and fast.next:\n",
    "        slow = slow.next\n",
    "        fast = fast.next.next\n",
    "\n",
    "    right = head\n",
    "    # fast is None -> even number of nodes\n",
    "    # fast.next is None -> odd number of nodes\n",
    "    left = LinkedList()\n",
    "    left.head.next = slow if not fast else slow.next\n",
    "    reverseList(left)\n",
    "    left = left.head.next\n",
    "    while left:\n",
    "        if right.value == left.value:\n",
    "            left = left.next\n",
    "            right = right.next\n",
    "        else:\n",
    "            return False\n",
    "\n",
    "    return True"
   ]
  },
  {
   "cell_type": "code",
   "execution_count": 30,
   "metadata": {},
   "outputs": [
    {
     "name": "stdout",
     "output_type": "stream",
     "text": "1 3 5 7 9 \nFalse\n"
    }
   ],
   "source": [
    "lst = LinkedList()\n",
    "lst.add_last(1)\n",
    "lst.add_last(3)\n",
    "lst.add_last(5)\n",
    "lst.add_last(7)\n",
    "lst.add_last(9)\n",
    "lst.print_list()\n",
    "print(isPalindrome(lst))"
   ]
  },
  {
   "cell_type": "code",
   "execution_count": 31,
   "metadata": {},
   "outputs": [
    {
     "name": "stdout",
     "output_type": "stream",
     "text": "1 3 5 3 1 \nTrue\n"
    }
   ],
   "source": [
    "lst = LinkedList()\n",
    "lst.add_last(1)\n",
    "lst.add_last(3)\n",
    "lst.add_last(5)\n",
    "lst.add_last(3)\n",
    "lst.add_last(1)\n",
    "lst.print_list()\n",
    "print(isPalindrome(lst))"
   ]
  },
  {
   "cell_type": "code",
   "execution_count": 32,
   "metadata": {},
   "outputs": [],
   "source": [
    "def isPalindrome2(head):\n",
    "    rev = None\n",
    "    slow = fast = head\n",
    "    while fast and fast.next:\n",
    "        fast = fast.next.next\n",
    "        rev, rev.next, slow = slow, rev, slow.next\n",
    "    if fast:\n",
    "        slow = slow.next\n",
    "    while rev and rev.value == slow.value:\n",
    "        slow, rev = slow.next, rev.next\n",
    "\n",
    "    return not rev\n",
    "    "
   ]
  },
  {
   "cell_type": "code",
   "execution_count": 33,
   "metadata": {},
   "outputs": [
    {
     "name": "stdout",
     "output_type": "stream",
     "text": "1 3 5 7 9 \nFalse\n"
    }
   ],
   "source": [
    "lst = LinkedList()\n",
    "lst.add_last(1)\n",
    "lst.add_last(3)\n",
    "lst.add_last(5)\n",
    "lst.add_last(7)\n",
    "lst.add_last(9)\n",
    "lst.print_list()\n",
    "print(isPalindrome2(lst.head.next))"
   ]
  },
  {
   "cell_type": "code",
   "execution_count": 34,
   "metadata": {},
   "outputs": [
    {
     "name": "stdout",
     "output_type": "stream",
     "text": "1 3 5 3 1 \nTrue\n"
    }
   ],
   "source": [
    "lst = LinkedList()\n",
    "lst.add_last(1)\n",
    "lst.add_last(3)\n",
    "lst.add_last(5)\n",
    "lst.add_last(3)\n",
    "lst.add_last(1)\n",
    "lst.print_list()\n",
    "print(isPalindrome2(lst.head.next))"
   ]
  },
  {
   "cell_type": "markdown",
   "execution_count": null,
   "metadata": {},
   "outputs": [],
   "source": [
    "## Ex11: Remove Duplicates from Sorted List\n",
    "Given a sorted linked list, delete all duplicates such that each element appear only once.\n",
    "\n",
    "For example,\n",
    "\n",
    "Given 1->1->2, return 1->2.\n",
    "\n",
    "Given 1->1->2->3->3, return 1->2->3."
   ]
  },
  {
   "cell_type": "code",
   "execution_count": 35,
   "metadata": {},
   "outputs": [],
   "source": [
    "def deleteDuplicates(head):\n",
    "    cur = res = head\n",
    "    nxt = cur.next\n",
    "    while nxt:\n",
    "        while cur and nxt and nxt.value == cur.value:\n",
    "            nxt = nxt.next\n",
    "        cur.next = nxt\n",
    "        cur = nxt\n",
    "        nxt = nxt.next\n",
    "    return res"
   ]
  },
  {
   "cell_type": "code",
   "execution_count": 36,
   "metadata": {},
   "outputs": [
    {
     "name": "stdout",
     "output_type": "stream",
     "text": "1 3 5 7 9 \n"
    }
   ],
   "source": [
    "lst = LinkedList()\n",
    "lst.add_last(1)\n",
    "lst.add_last(3)\n",
    "lst.add_last(3)\n",
    "lst.add_last(3)\n",
    "lst.add_last(5)\n",
    "lst.add_last(7)\n",
    "lst.add_last(7)\n",
    "lst.add_last(9)\n",
    "lst.head.next = deleteDuplicates(lst.head.next)\n",
    "lst.print_list()"
   ]
  },
  {
   "cell_type": "code",
   "execution_count": 37,
   "metadata": {},
   "outputs": [],
   "source": [
    "def deleteDuplicates2(head):\n",
    "    cur = head\n",
    "    while cur.next:\n",
    "        if cur.value == cur.next.value:\n",
    "            cur.next = cur.next.next\n",
    "        else:\n",
    "            cur = cur.next\n",
    "    return head"
   ]
  },
  {
   "cell_type": "code",
   "execution_count": 38,
   "metadata": {},
   "outputs": [
    {
     "name": "stdout",
     "output_type": "stream",
     "text": "1 3 5 7 9 \n"
    }
   ],
   "source": [
    "lst = LinkedList()\n",
    "lst.add_last(1)\n",
    "lst.add_last(3)\n",
    "lst.add_last(3)\n",
    "lst.add_last(3)\n",
    "lst.add_last(5)\n",
    "lst.add_last(7)\n",
    "lst.add_last(7)\n",
    "lst.add_last(9)\n",
    "lst.add_last(9)\n",
    "lst.head.next = deleteDuplicates2(lst.head.next)\n",
    "lst.print_list()"
   ]
  },
  {
   "cell_type": "markdown",
   "execution_count": null,
   "metadata": {},
   "outputs": [],
   "source": [
    "## Ex12: Remove Duplicates from Sorted List II\n",
    "Given a sorted linked list, delete all nodes that have duplicate numbers, leaving only distinct numbers from the original list.\n",
    "\n",
    "For example,\n",
    "\n",
    "Given 1->2->3->3->4->4->5, return 1->2->5.\n",
    "\n",
    "Given 1->1->1->2->3, return 2->3.\n",
    "\n"
   ]
  },
  {
   "cell_type": "code",
   "execution_count": 39,
   "metadata": {},
   "outputs": [],
   "source": [
    "def deleteDuplicates2(head):\n",
    "    cur = head\n",
    "    pre = Node()\n",
    "    pre.next = cur\n",
    "    while cur.next:\n",
    "        if cur.value == cur.next.value:\n",
    "            while cur and cur.next and cur.value == cur.next.value:\n",
    "                cur = cur.next\n",
    "            cur = cur.next\n",
    "            pre.next = cur\n",
    "        else:\n",
    "            pre = pre.next\n",
    "            cur = cur.next\n",
    "    return head"
   ]
  },
  {
   "cell_type": "code",
   "execution_count": 40,
   "metadata": {},
   "outputs": [
    {
     "name": "stdout",
     "output_type": "stream",
     "text": "1 5 9 \n"
    }
   ],
   "source": [
    "lst = LinkedList()\n",
    "lst.add_last(1)\n",
    "lst.add_last(3)\n",
    "lst.add_last(3)\n",
    "lst.add_last(3)\n",
    "lst.add_last(5)\n",
    "lst.add_last(7)\n",
    "lst.add_last(7)\n",
    "lst.add_last(9)\n",
    "lst.head.next = deleteDuplicates2(lst.head.next)\n",
    "lst.print_list()"
   ]
  },
  {
   "cell_type": "code",
   "execution_count": null,
   "metadata": {},
   "outputs": [],
   "source": []
  }
 ],
 "metadata": {
  "file_extension": ".py",
  "kernelspec": {
   "display_name": "Python 3",
   "language": "python",
   "name": "python3"
  },
  "language_info": {
   "codemirror_mode": {
    "name": "ipython",
    "version": 3
   },
   "file_extension": ".py",
   "mimetype": "text/x-python",
   "name": "python",
   "nbconvert_exporter": "python",
   "pygments_lexer": "ipython3",
   "version": "3.6.5"
  },
  "mimetype": "text/x-python",
  "name": "python",
  "npconvert_exporter": "python",
  "pygments_lexer": "ipython3",
  "toc": {
   "base_numbering": 1,
   "nav_menu": {},
   "number_sections": true,
   "sideBar": true,
   "skip_h1_title": false,
   "title_cell": "Table of Contents",
   "title_sidebar": "Contents",
   "toc_cell": false,
   "toc_position": {
    "height": "calc(100% - 180px)",
    "left": "10px",
    "top": "150px",
    "width": "370.6px"
   },
   "toc_section_display": true,
   "toc_window_display": true
  },
  "version": 3
 },
 "nbformat": 4,
 "nbformat_minor": 2
}