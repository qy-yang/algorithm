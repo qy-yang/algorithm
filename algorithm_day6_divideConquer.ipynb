{
 "cells": [
  {
   "cell_type": "markdown",
   "metadata": {},
   "source": [
    "## Ex1 Quick Power"
   ]
  },
  {
   "cell_type": "code",
   "execution_count": 1,
   "metadata": {},
   "outputs": [],
   "source": [
    "def quick_power(a, n):\n",
    "    if a == 0 and n == 0:\n",
    "        raise RuntimeError\n",
    "    elif a == 0:\n",
    "        return 0\n",
    "    elif n < 0:\n",
    "        return 1 / quick_power(a, -n)\n",
    "    elif n == 1:\n",
    "        return a\n",
    "    elif n % 2 == 0:\n",
    "        tmp = quick_power(a, n//2)\n",
    "        return tmp * tmp\n",
    "    else:\n",
    "        tmp = quick_power(a, n//2)\n",
    "        return tmp * tmp * a\n",
    "        "
   ]
  },
  {
   "cell_type": "code",
   "execution_count": 2,
   "metadata": {},
   "outputs": [
    {
     "name": "stdout",
     "output_type": "stream",
     "text": [
      "32\n",
      "81\n",
      "0\n",
      "5\n",
      "0.01\n"
     ]
    }
   ],
   "source": [
    "print(quick_power(2, 5))\n",
    "print(quick_power(3, 4))\n",
    "print(quick_power(0, 4))\n",
    "print(quick_power(5, 1))\n",
    "print(quick_power(10, -2))"
   ]
  },
  {
   "cell_type": "markdown",
   "metadata": {},
   "source": [
    "## Ex2: Search Peak Element\n",
    "The array has no duplicates, may contain multiple peaks, return the index to any one of the peaks.\n",
    "\n",
    "You may imagine that num\\[1\\] = num\\[n\\] = -∞."
   ]
  },
  {
   "cell_type": "code",
   "execution_count": 3,
   "metadata": {},
   "outputs": [],
   "source": [
    "def searchPeak(lst):\n",
    "    mid_pos = len(lst) // 2\n",
    "    mid = lst[mid_pos]\n",
    "    if mid > lst[mid_pos - 1] and mid > lst[mid_pos + 1]:\n",
    "        return mid\n",
    "    elif mid <= lst[mid_pos - 1]:\n",
    "        return searchPeak(lst[:mid_pos])\n",
    "    else:\n",
    "        return searchPeak(lst[mid_pos:])"
   ]
  },
  {
   "cell_type": "code",
   "execution_count": 4,
   "metadata": {},
   "outputs": [
    {
     "name": "stdout",
     "output_type": "stream",
     "text": [
      "7\n",
      "7\n"
     ]
    }
   ],
   "source": [
    "print(searchPeak([1,3,5,7,3,1]))\n",
    "print(searchPeak([1,3,5,3,7,4,3,2]))"
   ]
  },
  {
   "cell_type": "markdown",
   "metadata": {},
   "source": [
    "## Ex3: Find Medium / Find kth Element"
   ]
  },
  {
   "cell_type": "code",
   "execution_count": 5,
   "metadata": {},
   "outputs": [],
   "source": [
    "# O(nlgn)\n",
    "def findKthLargest1(lst, k):\n",
    "    lst.sort()\n",
    "    return lst[k-1]"
   ]
  },
  {
   "cell_type": "code",
   "execution_count": 6,
   "metadata": {},
   "outputs": [],
   "source": [
    "# Refer to quick sort\n",
    "# unable to consider the duplicates\n",
    "def findKthLargest2(nums, k):\n",
    "    pivot = nums[0]\n",
    "    left = [num for num in nums if num <= pivot]\n",
    "    right = [num for num in nums if num > pivot]\n",
    "    if len(left) == k:\n",
    "        return left[-1]\n",
    "    elif len(left) > k:\n",
    "        return findKthLargest2(left, k)\n",
    "    else:\n",
    "        return findKthLargest2(right, k-len(left))\n"
   ]
  },
  {
   "cell_type": "code",
   "execution_count": 7,
   "metadata": {},
   "outputs": [],
   "source": [
    "# Refer to quick sort\n",
    "# O(n)\n",
    "def findKthLargest(nums, k):\n",
    "    res = findKthSmallest(nums, len(nums) + 1 - k)  # Convert the kth largest to smallest\n",
    "    return res\n",
    "\n",
    "def findKthSmallest(nums, k):\n",
    "    if nums:\n",
    "        pos = partition(nums, 0, len(nums) - 1)\n",
    "        if k > pos + 1:\n",
    "            return findKthSmallest(nums[pos + 1:], k - pos - 1)\n",
    "        elif k < pos + 1:\n",
    "            return findKthSmallest(nums[:pos], k)\n",
    "        else:\n",
    "            return nums[pos]\n",
    "        \n",
    "def partition(nums, l, r):\n",
    "    low = l  # choose the left-most element as pivot\n",
    "    pass\n",
    "    "
   ]
  },
  {
   "cell_type": "code",
   "execution_count": 8,
   "metadata": {},
   "outputs": [
    {
     "data": {
      "text/plain": [
       "[3, 4, 6, 4, 2, 3]"
      ]
     },
     "execution_count": 8,
     "metadata": {},
     "output_type": "execute_result"
    }
   ],
   "source": [
    "import random\n",
    "\n",
    "nums = [random.randint(1, 6) for i in range(6)]\n",
    "nums"
   ]
  },
  {
   "cell_type": "code",
   "execution_count": 9,
   "metadata": {},
   "outputs": [
    {
     "name": "stdout",
     "output_type": "stream",
     "text": [
      "4\n"
     ]
    }
   ],
   "source": [
    "print(findKthLargest2(nums, 5))\n",
    "# print(findKthLargest2(nums, 3))"
   ]
  },
  {
   "cell_type": "code",
   "execution_count": 10,
   "metadata": {},
   "outputs": [],
   "source": [
    "# bubble sort, O(kn)\n",
    "def findKthLargest3(nums, k):\n",
    "    for i in range(len(nums) - k + 1):  # each pass will find the kth largest element\n",
    "        for j in range(1, len(nums) - i):\n",
    "            if nums[j - 1] > nums[j]:\n",
    "                nums[j - 1], nums[j] = nums[j], nums[j - 1]\n",
    "    return nums[k-1]"
   ]
  },
  {
   "cell_type": "code",
   "execution_count": 11,
   "metadata": {},
   "outputs": [
    {
     "name": "stdout",
     "output_type": "stream",
     "text": [
      "4\n"
     ]
    }
   ],
   "source": [
    "print(findKthLargest3(nums, 5))"
   ]
  },
  {
   "cell_type": "markdown",
   "metadata": {},
   "source": [
    "## Ex4: Count Inversions\n",
    "Define the number of inversion i, j form an inversion if a[i] > a[j] for any i < j, that is, if the two elements a[i] and a[j] are \"out of order\"."
   ]
  },
  {
   "cell_type": "code",
   "execution_count": 12,
   "metadata": {},
   "outputs": [],
   "source": [
    "# O(n^2)\n",
    "def findInversion(arr):\n",
    "    inversion_count = 0\n",
    "    for i in range(len(arr)):\n",
    "        for j in range(i + 1, len(arr)):\n",
    "            if arr[i] > arr[j]:\n",
    "                inversion_count += 1\n",
    "    return inversion_count\n",
    "    "
   ]
  },
  {
   "cell_type": "code",
   "execution_count": 13,
   "metadata": {},
   "outputs": [],
   "source": [
    "# Refer to merge sort\n",
    "# O(nlgn)\n",
    "def merge(left, right):\n",
    "    result = []\n",
    "    i, j = 0, 0\n",
    "    inv_count = 0\n",
    "    while i < len(left) and j < len(right):\n",
    "        if left[i] <= right[j]:\n",
    "            result.append(left[i])\n",
    "            i += 1\n",
    "        elif right[j] < left[i]:\n",
    "            result.append(right[j])\n",
    "            j += 1\n",
    "            inv_count += len(left) - i\n",
    "    result += left[i:]\n",
    "    result += right[j:]\n",
    "    return result, inv_count\n",
    "\n",
    "def countInvFast(arr):\n",
    "    if len(arr) < 2:\n",
    "        return arr, 0\n",
    "    mid = len(arr) // 2\n",
    "    left, inv_left = countInvFast(arr[:mid])\n",
    "    right, inv_right = countInvFast(arr[mid:])\n",
    "    merged, count = merge(left, right)\n",
    "    count += inv_left + inv_right\n",
    "    return merged, count"
   ]
  },
  {
   "cell_type": "code",
   "execution_count": 14,
   "metadata": {},
   "outputs": [
    {
     "name": "stdout",
     "output_type": "stream",
     "text": [
      "Number of inversions are ([1, 4, 4, 5, 6, 20], 8)\n"
     ]
    }
   ],
   "source": [
    "arr = [1, 20, 6, 4, 5, 4]\n",
    "n = len(arr)\n",
    "print(\"Number of inversions are\", countInvFast(arr))"
   ]
  },
  {
   "cell_type": "markdown",
   "metadata": {},
   "source": [
    "## Ex5: Find index of an extra element present in one sorted array¶\n",
    "Given two sorted arrays.\n",
    "\n",
    "There is only 1 difference between the arrays. First array has one element extra added in between.\n",
    "\n",
    "Find the index of the extra element.\n",
    "\n",
    "Examples:\n",
    "\n",
    "Input : {2, 4, 6, 8, 9, 10, 12}; {2, 4, 6, 8, 10, 12};\n",
    "\n",
    "Output : 4\n",
    "\n",
    "The first array has an extra element 9.\n",
    "\n",
    "The extra element is present at index 4.\n",
    "\n",
    "Input : {3, 5, 7, 9, 11, 13} {3, 5, 7, 11, 13}\n",
    "\n",
    "Output : 3"
   ]
  },
  {
   "cell_type": "code",
   "execution_count": 15,
   "metadata": {},
   "outputs": [],
   "source": [
    "# O(n)\n",
    "def find_extra(arr1, arr2):    \n",
    "    if len(arr1) < len(arr2):  # assume arr1 is longer\n",
    "        arr1, arr2 = arr2, arr1\n",
    "    n = len(arr2)\n",
    "    \n",
    "    for i in range(n):\n",
    "        if arr1[i] != arr2[i]:\n",
    "            return i\n",
    "    return n"
   ]
  },
  {
   "cell_type": "code",
   "execution_count": 16,
   "metadata": {},
   "outputs": [],
   "source": [
    "# O(lgn)\n",
    "def find_extra2(arr1, arr2):\n",
    "    if len(arr1) < len(arr2):  # assume arr1 is longer\n",
    "        arr1, arr2 = arr2, arr1\n",
    "    \n",
    "    l, r = 0, len(arr2) - 1\n",
    "    \n",
    "    # only the last element is different\n",
    "    # the loop below will not check the last element as arr2 is the shorter array\n",
    "    idx = len(arr2)  \n",
    "    \n",
    "    while l < r:\n",
    "        m = l + (r-l) // 2\n",
    "        if arr1[m] == arr2[m]:\n",
    "            l = m + 1\n",
    "        else:\n",
    "            idx = m\n",
    "            r = m\n",
    "            \n",
    "    return idx"
   ]
  },
  {
   "cell_type": "code",
   "execution_count": 17,
   "metadata": {},
   "outputs": [
    {
     "data": {
      "text/plain": [
       "0"
      ]
     },
     "execution_count": 17,
     "metadata": {},
     "output_type": "execute_result"
    }
   ],
   "source": [
    "ar1 = [1, 3, 5, 7, 9, 11, 13]\n",
    "ar2 = [3, 5, 7, 9, 11, 13]\n",
    "find_extra2(ar1, ar2)"
   ]
  },
  {
   "cell_type": "code",
   "execution_count": 18,
   "metadata": {},
   "outputs": [
    {
     "data": {
      "text/plain": [
       "6"
      ]
     },
     "execution_count": 18,
     "metadata": {},
     "output_type": "execute_result"
    }
   ],
   "source": [
    "ar1 = [3, 5, 7, 9, 11, 13, 16]\n",
    "ar2 = [3, 5, 7, 9, 11, 13]\n",
    "find_extra2(ar1, ar2)"
   ]
  },
  {
   "cell_type": "code",
   "execution_count": 19,
   "metadata": {},
   "outputs": [
    {
     "data": {
      "text/plain": [
       "3"
      ]
     },
     "execution_count": 19,
     "metadata": {},
     "output_type": "execute_result"
    }
   ],
   "source": [
    "ar1 = [3, 5, 7, 9, 11, 13]\n",
    "ar2 = [3, 5, 7, 11, 13]\n",
    "find_extra2(ar1, ar2)"
   ]
  },
  {
   "cell_type": "markdown",
   "metadata": {},
   "source": [
    "## Ex6: Maximum Sum Subarray\n",
    "Find the sum of contiguous subarray within a one-dimensional array of numbers which has the largest sum."
   ]
  },
  {
   "cell_type": "code",
   "execution_count": 20,
   "metadata": {},
   "outputs": [],
   "source": [
    "import sys\n",
    "\n",
    "def subarray(arr):\n",
    "    n = len(arr)\n",
    "    max_sum = -sys.maxsize\n",
    "    \n",
    "    for i in range(n):\n",
    "        cur_sum = 0\n",
    "        for j in range(i + 1, n):\n",
    "            cur_sum += arr[j]\n",
    "            if cur_sum > max_sum:\n",
    "                max_sum = cur_sum\n",
    "                \n",
    "    return max_sum"
   ]
  },
  {
   "cell_type": "code",
   "execution_count": 21,
   "metadata": {},
   "outputs": [
    {
     "data": {
      "text/plain": [
       "7"
      ]
     },
     "execution_count": 21,
     "metadata": {},
     "output_type": "execute_result"
    }
   ],
   "source": [
    "alist = [-2,-3,4,-1,-2,1,5,-3]\n",
    "subarray(alist)"
   ]
  },
  {
   "cell_type": "code",
   "execution_count": 22,
   "metadata": {},
   "outputs": [],
   "source": [
    "# divide & conquer\n",
    "# three cases, the subarray is at left, the subarray is at right, the subarray is at middle\n",
    "def subarray2(arr):\n",
    "    return subarray_helper(arr, 0, len(arr) - 1)\n",
    "\n",
    "def subarray2_helper(arr, l, r):\n",
    "    if l == r:\n",
    "        return arr[l]\n",
    "    m = l + (r - l) // 2\n",
    "    return max(subarray2_helper(arr, l, m), \n",
    "               subarray2_helper(arr, m + 1, r), \n",
    "               max_crossing(arr, l, m, r))\n",
    "\n",
    "def max_crossing(arr, l, m, r):\n",
    "    cur_sum = 0\n",
    "    left_sum = -sys.maxsize\n",
    "    for i in range(m, l - 1, -1):\n",
    "        cur_sum += arr[i]\n",
    "        if cur_sum > left_sum:\n",
    "            left_sum = cur_sum\n",
    "            \n",
    "    cur_sum = 0\n",
    "    right_sum = -sys.maxsize\n",
    "    for i in range(m + 1, r + 1):\n",
    "        cur_sum += arr[i]\n",
    "        if cur_sum > left_sum:\n",
    "            left_sum = cur_sum\n",
    "            \n",
    "    return left_sum + right_sum"
   ]
  },
  {
   "cell_type": "code",
   "execution_count": 23,
   "metadata": {},
   "outputs": [
    {
     "data": {
      "text/plain": [
       "7"
      ]
     },
     "execution_count": 23,
     "metadata": {},
     "output_type": "execute_result"
    }
   ],
   "source": [
    "alist = [-2,-3,4,-1,-2,1,5,-3]\n",
    "subarray(alist)"
   ]
  },
  {
   "cell_type": "code",
   "execution_count": null,
   "metadata": {},
   "outputs": [],
   "source": []
  },
  {
   "cell_type": "code",
   "execution_count": null,
   "metadata": {},
   "outputs": [],
   "source": []
  },
  {
   "cell_type": "code",
   "execution_count": null,
   "metadata": {},
   "outputs": [],
   "source": []
  }
 ],
 "metadata": {
  "kernelspec": {
   "display_name": "Python 3",
   "language": "python",
   "name": "python3"
  },
  "language_info": {
   "codemirror_mode": {
    "name": "ipython",
    "version": 3
   },
   "file_extension": ".py",
   "mimetype": "text/x-python",
   "name": "python",
   "nbconvert_exporter": "python",
   "pygments_lexer": "ipython3",
   "version": "3.7.3"
  },
  "toc": {
   "base_numbering": 1,
   "nav_menu": {},
   "number_sections": true,
   "sideBar": true,
   "skip_h1_title": false,
   "title_cell": "Table of Contents",
   "title_sidebar": "Contents",
   "toc_cell": false,
   "toc_position": {
    "height": "calc(100% - 180px)",
    "left": "10px",
    "top": "150px",
    "width": "370.6px"
   },
   "toc_section_display": true,
   "toc_window_display": true
  }
 },
 "nbformat": 4,
 "nbformat_minor": 2
}
