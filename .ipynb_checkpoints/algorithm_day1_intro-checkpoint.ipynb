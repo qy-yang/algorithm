{
 "cells": [
  {
   "cell_type": "markdown",
   "metadata": {},
   "source": [
    "# Day 1"
   ]
  },
  {
   "cell_type": "markdown",
   "metadata": {},
   "source": [
    "## Ex1: Calculate the solution of the quadratic equation"
   ]
  },
  {
   "cell_type": "code",
   "execution_count": 5,
   "metadata": {},
   "outputs": [],
   "source": [
    "import math\n",
    "\n",
    "def solve(a, b, c):\n",
    "    x1 = (-b + math.sqrt(pow(b, 2) -4 * a * c)) / (2 * a)\n",
    "    x2 = (-b - math.sqrt(pow(b, 2) -4 * a * c)) / (2 * a)\n",
    "    return x1, x2"
   ]
  },
  {
   "cell_type": "code",
   "execution_count": 6,
   "metadata": {},
   "outputs": [
    {
     "data": {
      "text/plain": [
       "(-0.2679491924311228, -3.732050807568877)"
      ]
     },
     "execution_count": 6,
     "metadata": {},
     "output_type": "execute_result"
    }
   ],
   "source": [
    "solve(1, 4, 1)"
   ]
  },
  {
   "cell_type": "markdown",
   "metadata": {},
   "source": [
    "## Ex2: Singing Contest\n",
    "Scoring a singer in a singing contest by removing a minimum score and a maximum score, and then calculate an average score."
   ]
  },
  {
   "cell_type": "code",
   "execution_count": 8,
   "metadata": {},
   "outputs": [
    {
     "data": {
      "text/plain": [
       "(7.928571428571429, [8, 9, 5, 8, 7, 9, 9.5])"
      ]
     },
     "execution_count": 8,
     "metadata": {},
     "output_type": "execute_result"
    }
   ],
   "source": [
    "def singing_score(values):\n",
    "    n = len(values)\n",
    "    max_score, min_score = values[0], values[0]\n",
    "    for i in range(1, n):\n",
    "        if values[i] > max_score:\n",
    "            max_score = values[i]\n",
    "        if values[i] < min_score:\n",
    "            min_score = values[i]\n",
    "            \n",
    "    values.remove(max_score)\n",
    "    values.remove(min_score)\n",
    "    return sum(values) / (n - 2)\n",
    "\n",
    "values =  [8,9,5,10,5,8,7,9,9.5]\n",
    "singing_score(values)"
   ]
  },
  {
   "cell_type": "markdown",
   "metadata": {},
   "source": [
    "## Ex3: Compute 𝜋"
   ]
  },
  {
   "cell_type": "markdown",
   "metadata": {},
   "source": [
    "Method 1\n",
    "$$\n",
    "\\frac{\\pi}{4} = 1-\\frac{1}{3}+\\frac{1}{5}-\\frac{1}{7}+\\frac{1}{9}+…\n",
    "$$"
   ]
  },
  {
   "cell_type": "code",
   "execution_count": 27,
   "metadata": {},
   "outputs": [
    {
     "data": {
      "text/plain": [
       "3.141392653591791"
      ]
     },
     "execution_count": 27,
     "metadata": {},
     "output_type": "execute_result"
    }
   ],
   "source": [
    "def pi1(n):\n",
    "    sign = -1\n",
    "    pi = 0\n",
    "    for i in range(1, n + 1, 2):\n",
    "        sign *= -1\n",
    "#         print(1 / i * sign)\n",
    "        pi += (1 / i) * sign\n",
    "        \n",
    "    return pi * 4\n",
    "\n",
    "pi1(10000)"
   ]
  },
  {
   "cell_type": "code",
   "execution_count": 30,
   "metadata": {},
   "outputs": [
    {
     "data": {
      "text/plain": [
       "3.1415946535856922"
      ]
     },
     "execution_count": 30,
     "metadata": {},
     "output_type": "execute_result"
    }
   ],
   "source": [
    "def pi2():\n",
    "    delta = 0.000001\n",
    "    sign = -1\n",
    "    pi = 0\n",
    "    pre = 100\n",
    "    i = 1\n",
    "    \n",
    "    while (abs(pi - pre) > delta):\n",
    "        sign *= -1\n",
    "        pre = pi\n",
    "        pi += (1 / i) * sign\n",
    "        i += 2\n",
    "\n",
    "    return pi * 4\n",
    "\n",
    "pi2()"
   ]
  },
  {
   "cell_type": "markdown",
   "metadata": {},
   "source": [
    "Method 2: Monte Carlo's simulation"
   ]
  },
  {
   "cell_type": "code",
   "execution_count": 36,
   "metadata": {},
   "outputs": [
    {
     "data": {
      "text/plain": [
       "3.1420116"
      ]
     },
     "execution_count": 36,
     "metadata": {},
     "output_type": "execute_result"
    }
   ],
   "source": [
    "from random import random\n",
    "\n",
    "def pi3(tries):\n",
    "    hits = 0\n",
    "    for i in range(tries):\n",
    "        r = random()\n",
    "        x = -1 + 2 * r\n",
    "        r = random()\n",
    "        y = -1 + 2 * r\n",
    "        if x * x + y * y <= 1:\n",
    "            hits += 1\n",
    "    return 4 * hits / tries\n",
    "\n",
    "pi3(10000000)"
   ]
  },
  {
   "cell_type": "markdown",
   "metadata": {},
   "source": [
    "## Ex4: Multiplication table"
   ]
  },
  {
   "cell_type": "code",
   "execution_count": 39,
   "metadata": {},
   "outputs": [
    {
     "name": "stdout",
     "output_type": "stream",
     "text": [
      "1 * 1 = 1  \n",
      "2 * 1 = 2  2 * 2 = 4  \n",
      "3 * 1 = 3  3 * 2 = 6  3 * 3 = 9  \n",
      "4 * 1 = 4  4 * 2 = 8  4 * 3 = 12  4 * 4 = 16  \n",
      "5 * 1 = 5  5 * 2 = 10  5 * 3 = 15  5 * 4 = 20  5 * 5 = 25  \n",
      "6 * 1 = 6  6 * 2 = 12  6 * 3 = 18  6 * 4 = 24  6 * 5 = 30  6 * 6 = 36  \n",
      "7 * 1 = 7  7 * 2 = 14  7 * 3 = 21  7 * 4 = 28  7 * 5 = 35  7 * 6 = 42  7 * 7 = 49  \n",
      "8 * 1 = 8  8 * 2 = 16  8 * 3 = 24  8 * 4 = 32  8 * 5 = 40  8 * 6 = 48  8 * 7 = 56  8 * 8 = 64  \n",
      "9 * 1 = 9  9 * 2 = 18  9 * 3 = 27  9 * 4 = 36  9 * 5 = 45  9 * 6 = 54  9 * 7 = 63  9 * 8 = 72  9 * 9 = 81  \n"
     ]
    }
   ],
   "source": [
    "def mults():\n",
    "    for i in range(1, 10):\n",
    "        for j in range(1, i + 1):\n",
    "            print(f'{i} * {j} = {i * j}', end=\"  \")\n",
    "        print()\n",
    "        \n",
    "mults()"
   ]
  },
  {
   "cell_type": "code",
   "execution_count": 40,
   "metadata": {},
   "outputs": [
    {
     "data": {
      "text/plain": [
       "[(1, 1, 1),\n",
       " (2, 1, 2),\n",
       " (2, 2, 4),\n",
       " (3, 1, 3),\n",
       " (3, 2, 6),\n",
       " (3, 3, 9),\n",
       " (4, 1, 4),\n",
       " (4, 2, 8),\n",
       " (4, 3, 12),\n",
       " (4, 4, 16),\n",
       " (5, 1, 5),\n",
       " (5, 2, 10),\n",
       " (5, 3, 15),\n",
       " (5, 4, 20),\n",
       " (5, 5, 25),\n",
       " (6, 1, 6),\n",
       " (6, 2, 12),\n",
       " (6, 3, 18),\n",
       " (6, 4, 24),\n",
       " (6, 5, 30),\n",
       " (6, 6, 36),\n",
       " (7, 1, 7),\n",
       " (7, 2, 14),\n",
       " (7, 3, 21),\n",
       " (7, 4, 28),\n",
       " (7, 5, 35),\n",
       " (7, 6, 42),\n",
       " (7, 7, 49),\n",
       " (8, 1, 8),\n",
       " (8, 2, 16),\n",
       " (8, 3, 24),\n",
       " (8, 4, 32),\n",
       " (8, 5, 40),\n",
       " (8, 6, 48),\n",
       " (8, 7, 56),\n",
       " (8, 8, 64),\n",
       " (9, 1, 9),\n",
       " (9, 2, 18),\n",
       " (9, 3, 27),\n",
       " (9, 4, 36),\n",
       " (9, 5, 45),\n",
       " (9, 6, 54),\n",
       " (9, 7, 63),\n",
       " (9, 8, 72),\n",
       " (9, 9, 81)]"
      ]
     },
     "execution_count": 40,
     "metadata": {},
     "output_type": "execute_result"
    }
   ],
   "source": [
    "[(i, j, i * j) for i in range(1, 10) for j in range(1, i + 1)]"
   ]
  },
  {
   "cell_type": "markdown",
   "metadata": {},
   "source": [
    "## Ex5: Shuffle pokers\n",
    "After shuffling, each card will randomly appear in any position with equal probability."
   ]
  },
  {
   "cell_type": "code",
   "execution_count": 41,
   "metadata": {},
   "outputs": [
    {
     "data": {
      "text/plain": [
       "[9, 7, 8, 3, 0, 2, 6, 4, 5, 1]"
      ]
     },
     "execution_count": 41,
     "metadata": {},
     "output_type": "execute_result"
    }
   ],
   "source": [
    "import random\n",
    "\n",
    "def shuffle_cards(cards):\n",
    "    random.shuffle(cards)\n",
    "    \n",
    "A = [i for i in range(10)]\n",
    "shuffle_cards(A)\n",
    "A"
   ]
  },
  {
   "cell_type": "code",
   "execution_count": 44,
   "metadata": {},
   "outputs": [
    {
     "data": {
      "text/plain": [
       "[[99, 111, 122, 105, 92, 99, 94, 89, 96, 93],\n",
       " [91, 111, 106, 96, 99, 103, 102, 108, 86, 98],\n",
       " [103, 100, 84, 99, 98, 95, 106, 117, 100, 98],\n",
       " [98, 103, 102, 95, 92, 93, 96, 105, 120, 96],\n",
       " [89, 107, 91, 109, 106, 111, 106, 79, 87, 115],\n",
       " [104, 89, 101, 91, 85, 102, 99, 110, 108, 111],\n",
       " [113, 94, 100, 98, 117, 93, 111, 75, 95, 104],\n",
       " [106, 86, 105, 90, 115, 90, 95, 103, 109, 101],\n",
       " [106, 97, 93, 108, 92, 111, 97, 120, 87, 89],\n",
       " [91, 102, 96, 109, 104, 103, 94, 94, 112, 95]]"
      ]
     },
     "execution_count": 44,
     "metadata": {},
     "output_type": "execute_result"
    }
   ],
   "source": [
    "def test_shuffle(f, n):\n",
    "    res = [[0]*10 for j in range(10)]\n",
    "    for _ in range(n):\n",
    "        A = [i for i in range(10)]\n",
    "        f(A)\n",
    "        # count the number of times a num appear in different position\n",
    "        for i, a in enumerate(A):\n",
    "            res[a][i] += 1\n",
    "    return res\n",
    "\n",
    "test_shuffle(shuffle_cards, 1000)"
   ]
  },
  {
   "cell_type": "code",
   "execution_count": 46,
   "metadata": {},
   "outputs": [
    {
     "data": {
      "text/plain": [
       "[[99, 95, 115, 94, 100, 100, 107, 91, 104, 95],\n",
       " [75, 119, 105, 86, 103, 108, 108, 99, 92, 105],\n",
       " [114, 93, 88, 106, 92, 94, 84, 108, 110, 111],\n",
       " [99, 104, 101, 75, 97, 108, 95, 103, 100, 118],\n",
       " [99, 95, 98, 115, 108, 98, 109, 88, 94, 96],\n",
       " [96, 104, 99, 101, 101, 116, 98, 103, 96, 86],\n",
       " [93, 106, 103, 100, 104, 99, 102, 96, 104, 93],\n",
       " [122, 82, 102, 104, 94, 92, 102, 106, 94, 102],\n",
       " [101, 90, 98, 104, 109, 94, 109, 99, 103, 93],\n",
       " [102, 112, 91, 115, 92, 91, 86, 107, 103, 101]]"
      ]
     },
     "execution_count": 46,
     "metadata": {},
     "output_type": "execute_result"
    }
   ],
   "source": [
    "def shuffle_cards2(cards):\n",
    "    '''\n",
    "    The probability of a cards appears in any position is the same, say 1/n\n",
    "    '''\n",
    "    n =  len(cards)\n",
    "    for i in range(n):\n",
    "        k = random.randint(i, n-1)\n",
    "        cards[i], cards[k] = cards[k], cards[i]\n",
    "        \n",
    "test_shuffle(shuffle_cards2, 1000)"
   ]
  },
  {
   "cell_type": "markdown",
   "metadata": {},
   "source": [
    "## Ex6: Coupon Collector\n",
    "Suppose that you have a shuffled deck of cards and you turn them face up, one by one. How many cards do you need to turn up before you have seen one of each suit? Given N distinct card types, how many random cards do you need do collect before you have (at least) one of each type?"
   ]
  },
  {
   "cell_type": "code",
   "execution_count": 64,
   "metadata": {},
   "outputs": [
    {
     "data": {
      "text/plain": [
       "7.6073"
      ]
     },
     "execution_count": 64,
     "metadata": {},
     "output_type": "execute_result"
    }
   ],
   "source": [
    "def coupon_collector(mc):    \n",
    "    seen_times = 0\n",
    "    \n",
    "    for _ in range(mc):\n",
    "        A = [0] * 13 + [1] * 13 + [2] * 13 + [3] * 13\n",
    "        shuffle_cards(A)\n",
    "        seen = [0] * 4\n",
    "        \n",
    "        for i in range(len(A)):\n",
    "            if sum(seen) == 4:\n",
    "                seen_times += i\n",
    "                break\n",
    "            seen[A[i]] = 1\n",
    "            \n",
    "    return seen_times / mc\n",
    "\n",
    "coupon_collector(10000)"
   ]
  },
  {
   "cell_type": "code",
   "execution_count": 69,
   "metadata": {},
   "outputs": [
    {
     "data": {
      "text/plain": [
       "29.0558"
      ]
     },
     "execution_count": 69,
     "metadata": {},
     "output_type": "execute_result"
    }
   ],
   "source": [
    "def coupon_collector2(n, mc):\n",
    "    seen_times = 0\n",
    "    \n",
    "    for _ in range(mc):\n",
    "        seen = [0] * n\n",
    "        while sum(seen) < n:\n",
    "            seen_times += 1\n",
    "            picked = random.randint(0, n - 1)\n",
    "            seen[picked] = 1            \n",
    "    return seen_times / mc\n",
    "\n",
    "coupon_collector2(10, 10000)"
   ]
  },
  {
   "cell_type": "markdown",
   "metadata": {},
   "source": [
    "## Ex7: Prime numbers\n",
    "Given a postive integer n, output how many prime number less than it."
   ]
  },
  {
   "cell_type": "code",
   "execution_count": 71,
   "metadata": {},
   "outputs": [
    {
     "name": "stdout",
     "output_type": "stream",
     "text": [
      "2 3 5 7 11 13 17 19 23 29 31 37 41 43 47 53 59 61 67 71 73 79 83 89 97 "
     ]
    }
   ],
   "source": [
    "def count_prime(n):\n",
    "    is_prime = [True] * (n + 1)\n",
    "    \n",
    "    i = 2\n",
    "    while (i * i <= n):\n",
    "        if is_prime[i]:\n",
    "            j = 2\n",
    "            while j * i <= n:\n",
    "                is_prime[j * i] = False\n",
    "                j += 1\n",
    "        i += 1\n",
    "        \n",
    "    for i in range(2, n + 1):\n",
    "        if is_prime[i]:\n",
    "            print(i, end=' ')\n",
    "\n",
    "count_prime(100)"
   ]
  },
  {
   "cell_type": "markdown",
   "metadata": {},
   "source": [
    "## Ex8: Goldbach Conjecture\n",
    "\n",
    "Any even number greater than 2 can be expressed as the sum of two prime numbers."
   ]
  },
  {
   "cell_type": "code",
   "execution_count": 73,
   "metadata": {
    "scrolled": false
   },
   "outputs": [
    {
     "name": "stdout",
     "output_type": "stream",
     "text": [
      "100 = 3 + 97\n",
      "100 = 11 + 89\n",
      "100 = 17 + 83\n",
      "100 = 29 + 71\n",
      "100 = 41 + 59\n",
      "100 = 47 + 53\n"
     ]
    }
   ],
   "source": [
    "def goldbach(n):\n",
    "    # step1: find the prime number less the given number\n",
    "    # step2: two pointers to find the number\n",
    "    is_prime = [True] * (n + 1)\n",
    "    \n",
    "    i = 2\n",
    "    while (i * i <= n):\n",
    "        if is_prime[i]:\n",
    "            j = 2\n",
    "            while j * i <= n:\n",
    "                is_prime[j * i] = False\n",
    "                j += 1\n",
    "        i += 1\n",
    "        \n",
    "    primes = []\n",
    "    for i in range(2, n + 1):\n",
    "        if is_prime[i]:\n",
    "            primes.append(i)\n",
    "            \n",
    "    left, right = 0, len(primes) - 1\n",
    "    while left < right:\n",
    "        if primes[left] + primes[right] == n:\n",
    "            print(f'{n} = {primes[left]} + {primes[right]}')\n",
    "            right -= 1\n",
    "        elif primes[left] + primes[right] > n:\n",
    "            right -= 1\n",
    "        else:\n",
    "            left += 1\n",
    "\n",
    "goldbach(100)"
   ]
  },
  {
   "cell_type": "code",
   "execution_count": null,
   "metadata": {},
   "outputs": [],
   "source": []
  },
  {
   "cell_type": "code",
   "execution_count": null,
   "metadata": {},
   "outputs": [],
   "source": []
  },
  {
   "cell_type": "code",
   "execution_count": null,
   "metadata": {},
   "outputs": [],
   "source": []
  },
  {
   "cell_type": "code",
   "execution_count": null,
   "metadata": {},
   "outputs": [],
   "source": []
  }
 ],
 "metadata": {
  "kernelspec": {
   "display_name": "Python 3",
   "language": "python",
   "name": "python3"
  },
  "language_info": {
   "codemirror_mode": {
    "name": "ipython",
    "version": 3
   },
   "file_extension": ".py",
   "mimetype": "text/x-python",
   "name": "python",
   "nbconvert_exporter": "python",
   "pygments_lexer": "ipython3",
   "version": "3.7.3"
  },
  "toc": {
   "base_numbering": 1,
   "nav_menu": {},
   "number_sections": true,
   "sideBar": true,
   "skip_h1_title": false,
   "title_cell": "Table of Contents",
   "title_sidebar": "Contents",
   "toc_cell": false,
   "toc_position": {},
   "toc_section_display": true,
   "toc_window_display": true
  }
 },
 "nbformat": 4,
 "nbformat_minor": 2
}
