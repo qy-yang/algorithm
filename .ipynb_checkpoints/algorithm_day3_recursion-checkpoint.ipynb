{
 "cells": [
  {
   "cell_type": "markdown",
   "metadata": {},
   "source": [
    "# Recursion\n",
    "## Ex1: Simple Example"
   ]
  },
  {
   "cell_type": "code",
   "execution_count": 1,
   "metadata": {},
   "outputs": [],
   "source": [
    "def mysum_recursive(n):\n",
    "    if n == 1:\n",
    "        return 1\n",
    "    return n + mysum_recursive(n - 1)"
   ]
  },
  {
   "cell_type": "code",
   "execution_count": 2,
   "metadata": {},
   "outputs": [
    {
     "data": {
      "text/plain": [
       "55"
      ]
     },
     "execution_count": 2,
     "metadata": {},
     "output_type": "execute_result"
    }
   ],
   "source": [
    "result = mysum_recursive(10)\n",
    "result"
   ]
  },
  {
   "cell_type": "markdown",
   "metadata": {},
   "source": [
    "## Ex2: Factorial"
   ]
  },
  {
   "cell_type": "code",
   "execution_count": 3,
   "metadata": {},
   "outputs": [],
   "source": [
    "def factorial_recursive(n):\n",
    "    if n == 1:\n",
    "        return 1\n",
    "    return n * factorial_recursive(n-1)"
   ]
  },
  {
   "cell_type": "code",
   "execution_count": 4,
   "metadata": {},
   "outputs": [
    {
     "data": {
      "text/plain": [
       "120"
      ]
     },
     "execution_count": 4,
     "metadata": {},
     "output_type": "execute_result"
    }
   ],
   "source": [
    "factorial_recursive(5)"
   ]
  },
  {
   "cell_type": "markdown",
   "metadata": {},
   "source": [
    "## Ex3: Fibonacci"
   ]
  },
  {
   "cell_type": "code",
   "execution_count": 5,
   "metadata": {},
   "outputs": [],
   "source": [
    "def fibonacci1(n):\n",
    "    assert n >= 0\n",
    "    if n <= 1:\n",
    "        return n\n",
    "    return fibonacci1(n - 1) + fibonacci1(n - 2)"
   ]
  },
  {
   "cell_type": "code",
   "execution_count": 6,
   "metadata": {},
   "outputs": [
    {
     "data": {
      "text/plain": [
       "55"
      ]
     },
     "execution_count": 6,
     "metadata": {},
     "output_type": "execute_result"
    }
   ],
   "source": [
    "fibonacci1(10)"
   ]
  },
  {
   "cell_type": "code",
   "execution_count": 7,
   "metadata": {},
   "outputs": [
    {
     "name": "stdout",
     "output_type": "stream",
     "text": [
      "CPU times: user 2min 37s, sys: 247 ms, total: 2min 37s\n",
      "Wall time: 2min 38s\n"
     ]
    },
    {
     "data": {
      "text/plain": [
       "102334155"
      ]
     },
     "execution_count": 7,
     "metadata": {},
     "output_type": "execute_result"
    }
   ],
   "source": [
    "time fibonacci1(40)"
   ]
  },
  {
   "cell_type": "code",
   "execution_count": 8,
   "metadata": {},
   "outputs": [],
   "source": [
    "def fibonacci2(n):\n",
    "    assert n >= 0\n",
    "    a, b = 0, 1\n",
    "    for i in range(2, n+1):\n",
    "        a, b = b, a + b\n",
    "    return b"
   ]
  },
  {
   "cell_type": "code",
   "execution_count": 9,
   "metadata": {},
   "outputs": [
    {
     "data": {
      "text/plain": [
       "55"
      ]
     },
     "execution_count": 9,
     "metadata": {},
     "output_type": "execute_result"
    }
   ],
   "source": [
    "fibonacci2(10)"
   ]
  },
  {
   "cell_type": "code",
   "execution_count": 10,
   "metadata": {},
   "outputs": [],
   "source": [
    "# Not compute the result repetitively\n",
    "def fibonacci3(n):\n",
    "    assert n >= 0\n",
    "    if n <= 1:\n",
    "        return n, 1\n",
    "    a, b = fibonacci3(n - 1)\n",
    "    return a + b, a"
   ]
  },
  {
   "cell_type": "code",
   "execution_count": 11,
   "metadata": {},
   "outputs": [
    {
     "data": {
      "text/plain": [
       "(89, 55)"
      ]
     },
     "execution_count": 11,
     "metadata": {},
     "output_type": "execute_result"
    }
   ],
   "source": [
    "fibonacci3(10)"
   ]
  },
  {
   "cell_type": "markdown",
   "metadata": {},
   "source": [
    "## Ex4: Print ruler"
   ]
  },
  {
   "cell_type": "code",
   "execution_count": 12,
   "metadata": {},
   "outputs": [],
   "source": [
    "def ruler(n):\n",
    "    assert n >= 0\n",
    "    if n <=1:\n",
    "        print(n)\n",
    "        return str(n)\n",
    "    pre = ruler(n - 1)\n",
    "    print(pre + str(n) + pre)\n",
    "    return pre + str(n) + pre"
   ]
  },
  {
   "cell_type": "code",
   "execution_count": 13,
   "metadata": {},
   "outputs": [
    {
     "name": "stdout",
     "output_type": "stream",
     "text": [
      "1\n",
      "121\n",
      "1213121\n",
      "121312141213121\n"
     ]
    },
    {
     "data": {
      "text/plain": [
       "'121312141213121'"
      ]
     },
     "execution_count": 13,
     "metadata": {},
     "output_type": "execute_result"
    }
   ],
   "source": [
    "ruler(4)"
   ]
  },
  {
   "cell_type": "code",
   "execution_count": 14,
   "metadata": {},
   "outputs": [],
   "source": [
    "def draw_line(tick_len, tick_label=''):\n",
    "    line = '-' * tick_len\n",
    "    if tick_label:\n",
    "        line += ' ' + tick_label\n",
    "    print(line)\n",
    "\n",
    "def draw_interval(center_len):\n",
    "    if center_len > 0:\n",
    "        draw_interval(center_len - 1)\n",
    "        draw_line(center_len)\n",
    "        draw_interval(center_len - 1)\n",
    "\n",
    "def draw_ruler(num_inches, major_len):\n",
    "    draw_line(major_len, '0')\n",
    "    for j in range(1, 1 + num_inches):\n",
    "        draw_interval(major_len - 1)\n",
    "        draw_line(major_len, str(j))\n",
    "    "
   ]
  },
  {
   "cell_type": "code",
   "execution_count": 15,
   "metadata": {},
   "outputs": [
    {
     "name": "stdout",
     "output_type": "stream",
     "text": [
      "-\n",
      "--\n",
      "-\n",
      "---\n",
      "-\n",
      "--\n",
      "-\n"
     ]
    }
   ],
   "source": [
    "draw_interval(3)"
   ]
  },
  {
   "cell_type": "code",
   "execution_count": 16,
   "metadata": {},
   "outputs": [
    {
     "name": "stdout",
     "output_type": "stream",
     "text": [
      "--- 0\n",
      "-\n",
      "--\n",
      "-\n",
      "--- 1\n",
      "-\n",
      "--\n",
      "-\n",
      "--- 2\n",
      "-\n",
      "--\n",
      "-\n",
      "--- 3\n",
      "-\n",
      "--\n",
      "-\n",
      "--- 4\n",
      "-\n",
      "--\n",
      "-\n",
      "--- 5\n"
     ]
    }
   ],
   "source": [
    "draw_ruler(5,3)"
   ]
  },
  {
   "cell_type": "markdown",
   "metadata": {},
   "source": [
    "## Ex5 Math Expression\n",
    "Given two integers a ≤ b, write a program that transforms a into b by a minimum sequence of increment (add 1) and unfolding (multiply by 2) operations.\n",
    "\n",
    "For example,\n",
    "\n",
    "23 = ((5 * 2 + 1) * 2 + 1), where a = 5, b = 23\n",
    "\n",
    "113 = ((((11 + 1) + 1) + 1) * 2 * 2 * 2 + 1), where a = 11, b = 113"
   ]
  },
  {
   "cell_type": "code",
   "execution_count": 17,
   "metadata": {},
   "outputs": [],
   "source": [
    "# Idea: unfolding if it is a even number, otherwise increment first\n",
    "def int_seq(a, b):\n",
    "    # Base case\n",
    "    if a == b:\n",
    "        return str(a)\n",
    "    if b % 2 == 1:\n",
    "        return '(' + int_seq(a, b - 1) + ' + 1)'\n",
    "    if a * 2 > b:\n",
    "        return '(' + int_seq(a, b - 1)+ ' + 1)'\n",
    "    return int_seq(a, b // 2) + ' * 2'"
   ]
  },
  {
   "cell_type": "code",
   "execution_count": 18,
   "metadata": {},
   "outputs": [
    {
     "data": {
      "text/plain": [
       "'((5 * 2 + 1) * 2 + 1)'"
      ]
     },
     "execution_count": 18,
     "metadata": {},
     "output_type": "execute_result"
    }
   ],
   "source": [
    "int_seq(5, 23)"
   ]
  },
  {
   "cell_type": "code",
   "execution_count": 19,
   "metadata": {},
   "outputs": [
    {
     "data": {
      "text/plain": [
       "'((((11 + 1) + 1) + 1) * 2 * 2 * 2 + 1)'"
      ]
     },
     "execution_count": 19,
     "metadata": {},
     "output_type": "execute_result"
    }
   ],
   "source": [
    "int_seq(11, 113)"
   ]
  },
  {
   "cell_type": "code",
   "execution_count": 20,
   "metadata": {},
   "outputs": [
    {
     "data": {
      "text/plain": [
       "'(((5 + 1) * 2 * 2 + 1) * 2 * 2 + 1)'"
      ]
     },
     "execution_count": 20,
     "metadata": {},
     "output_type": "execute_result"
    }
   ],
   "source": [
    "int_seq(5, 101)"
   ]
  },
  {
   "cell_type": "markdown",
   "metadata": {},
   "source": [
    "## Ex6: Hanoi\n",
    "\n",
    "- Three pillars: L, M, R\n",
    "- Move all the plates from L to R through M\n",
    "- The plate above must be smaller than any of the plates below"
   ]
  },
  {
   "cell_type": "code",
   "execution_count": 21,
   "metadata": {},
   "outputs": [],
   "source": [
    "def hanoi(frm, by, to, n):\n",
    "    if n == 1:\n",
    "        print(f'From {frm} to {to} by {by}.')\n",
    "    else:\n",
    "        hanoi(frm, to, by, n-1)\n",
    "        print(f'From {frm} to {to} by {by}.')\n",
    "        hanoi(by, frm, to, n-1)"
   ]
  },
  {
   "cell_type": "code",
   "execution_count": 22,
   "metadata": {},
   "outputs": [
    {
     "name": "stdout",
     "output_type": "stream",
     "text": [
      "From START to END by BY.\n",
      "From START to BY by END.\n",
      "From END to BY by START.\n",
      "From START to END by BY.\n",
      "From BY to START by END.\n",
      "From BY to END by START.\n",
      "From START to END by BY.\n"
     ]
    }
   ],
   "source": [
    "n = 3\n",
    "hanoi(\"START\", \"BY\", \"END\", n)"
   ]
  },
  {
   "cell_type": "markdown",
   "metadata": {},
   "source": [
    "## Ex7: Gray Code"
   ]
  },
  {
   "cell_type": "code",
   "execution_count": 23,
   "metadata": {},
   "outputs": [],
   "source": [
    "def gray_code(n, s):\n",
    "    pass\n",
    "#     if n == 1:\n",
    "#         if s == '0':\n",
    "#             print('Enter 1')\n",
    "#             return '1'\n",
    "#         elif s == '1':\n",
    "#             print('Enter 0')\n",
    "#             return '0'\n",
    "#     print('1' + gray_code(n - 1, ?))\n",
    "#     print('0' + gray_code(n - 1, ?))"
   ]
  },
  {
   "cell_type": "markdown",
   "metadata": {},
   "source": [
    "## Ex8: Subset"
   ]
  },
  {
   "cell_type": "code",
   "execution_count": 24,
   "metadata": {},
   "outputs": [],
   "source": [
    "def subsets(nums):\n",
    "    res = [[]]  # Include empty set into subset\n",
    "    \n",
    "    # For all the element in l, either add it into the existing subset or not\n",
    "    # If not use res[:] the second for loop will not end as res is keep updating\n",
    "    # The 2nd for loop is loop based on the last status\n",
    "    for num in nums:\n",
    "        for element in res[:]:\n",
    "            res.append(element + [num])\n",
    "            \n",
    "    return res\n",
    "    "
   ]
  },
  {
   "cell_type": "code",
   "execution_count": 25,
   "metadata": {},
   "outputs": [
    {
     "name": "stdout",
     "output_type": "stream",
     "text": [
      "[[], [1], [2], [1, 2], [3], [1, 3], [2, 3], [1, 2, 3]]\n"
     ]
    }
   ],
   "source": [
    "nums = [1, 2, 3]\n",
    "print(subsets(nums))"
   ]
  },
  {
   "cell_type": "code",
   "execution_count": 26,
   "metadata": {},
   "outputs": [],
   "source": [
    "def subsets2(nums):\n",
    "    res = [[]]\n",
    "    \n",
    "    for num in nums:\n",
    "        res += [i + [num] for i in res] \n",
    "    return res"
   ]
  },
  {
   "cell_type": "code",
   "execution_count": 27,
   "metadata": {},
   "outputs": [
    {
     "name": "stdout",
     "output_type": "stream",
     "text": [
      "[[], [1], [2], [1, 2], [3], [1, 3], [2, 3], [1, 2, 3]]\n"
     ]
    }
   ],
   "source": [
    "nums = [1, 2, 3]\n",
    "print(subsets2(nums))"
   ]
  },
  {
   "cell_type": "markdown",
   "metadata": {},
   "source": [
    "# Backtracking\n",
    "## Ex1: subset"
   ]
  },
  {
   "cell_type": "code",
   "execution_count": 28,
   "metadata": {},
   "outputs": [],
   "source": [
    "def subset_recursive(nums):\n",
    "    lst = []\n",
    "    res = []\n",
    "    subset_recursive_helper(nums, res, lst, 0)\n",
    "    return res\n",
    "\n",
    "def subset_recursive_helper(nums, res, lst, pos):\n",
    "    '''\n",
    "    input: \n",
    "        nums: the list of input numbers\n",
    "        res: list of list storing the result\n",
    "        lst: list storing the current status\n",
    "        pos: store the position of num/letter to be added\n",
    "    '''\n",
    "    res.append(lst[:])\n",
    "    for i in range(pos, len(nums)):\n",
    "        lst.append(nums[i])\n",
    "        subset_recursive_helper(nums, res, lst, i + 1)\n",
    "        lst.pop()"
   ]
  },
  {
   "cell_type": "code",
   "execution_count": 29,
   "metadata": {},
   "outputs": [
    {
     "name": "stdout",
     "output_type": "stream",
     "text": [
      "[[], ['a'], ['a', 'b'], ['a', 'b', 'c'], ['a', 'c'], ['b'], ['b', 'c'], ['c']]\n"
     ]
    }
   ],
   "source": [
    "nums = ['a', 'b', 'c']\n",
    "print(subset_recursive(nums))"
   ]
  },
  {
   "cell_type": "markdown",
   "metadata": {},
   "source": [
    "## Ex2: Subset II\n",
    "Given a collection of integers that might contain duplicates, nums, return all possible subsets."
   ]
  },
  {
   "cell_type": "code",
   "execution_count": 30,
   "metadata": {},
   "outputs": [],
   "source": [
    "def subset2_1(nums):\n",
    "    res = [[]]\n",
    "    for num in nums:\n",
    "        res.extend([ele + [num] for ele in res if (ele + [num] not in res)]) \n",
    "#         res.extend([ele+[num] for ele in res if (num not in ele) and ([num] not in res)]) \n",
    "    return res"
   ]
  },
  {
   "cell_type": "code",
   "execution_count": 31,
   "metadata": {},
   "outputs": [
    {
     "data": {
      "text/plain": [
       "[[],\n",
       " [1],\n",
       " [2],\n",
       " [1, 2],\n",
       " [3],\n",
       " [1, 3],\n",
       " [2, 3],\n",
       " [1, 2, 3],\n",
       " [3, 3],\n",
       " [1, 3, 3],\n",
       " [2, 3, 3],\n",
       " [1, 2, 3, 3]]"
      ]
     },
     "execution_count": 31,
     "metadata": {},
     "output_type": "execute_result"
    }
   ],
   "source": [
    "nums = [1,2,3, 3]\n",
    "subset2_1(nums)"
   ]
  },
  {
   "cell_type": "code",
   "execution_count": 32,
   "metadata": {},
   "outputs": [],
   "source": [
    "def subset_rescursive2(nums):\n",
    "    res = []\n",
    "    lst = []\n",
    "    subset_rescursive_helper2(nums, res, lst, 0)\n",
    "    return res\n",
    "\n",
    "def subset_rescursive_helper2(nums, res, lst, pos):\n",
    "    if lst not in res:\n",
    "        res.append(lst[:])\n",
    "#     res.append(lst[:])\n",
    "    for i in range(pos, len(nums)):\n",
    "        lst.append(nums[i])\n",
    "        subset_rescursive_helper2(nums, res, lst, i + 1)\n",
    "        lst.pop()\n",
    "        "
   ]
  },
  {
   "cell_type": "code",
   "execution_count": 33,
   "metadata": {},
   "outputs": [
    {
     "data": {
      "text/plain": [
       "[[],\n",
       " [1],\n",
       " [1, 2],\n",
       " [1, 2, 3],\n",
       " [1, 2, 3, 3],\n",
       " [1, 3],\n",
       " [1, 3, 3],\n",
       " [2],\n",
       " [2, 3],\n",
       " [2, 3, 3],\n",
       " [3],\n",
       " [3, 3]]"
      ]
     },
     "execution_count": 33,
     "metadata": {},
     "output_type": "execute_result"
    }
   ],
   "source": [
    "nums = [1,2,3, 3]\n",
    "subset_rescursive2(nums)"
   ]
  },
  {
   "cell_type": "code",
   "execution_count": 34,
   "metadata": {},
   "outputs": [],
   "source": [
    "def subset_recursive3(nums):\n",
    "    res = []\n",
    "    lst = []\n",
    "    pos = 0\n",
    "    nums.sort()\n",
    "    subset_recursive_helper3(nums, res, lst, pos)\n",
    "    return res\n",
    "\n",
    "def subset_recursive_helper3(nums, res, lst, pos):\n",
    "    res.append(lst[:])\n",
    "    for i in range(pos, len(nums)):\n",
    "        if i != pos and nums[i-1] == nums[i]:\n",
    "            continue\n",
    "        lst.append(nums[i])\n",
    "        subset_recursive_helper3(nums, res, lst, i+1)\n",
    "        lst.pop()"
   ]
  },
  {
   "cell_type": "code",
   "execution_count": 35,
   "metadata": {},
   "outputs": [
    {
     "data": {
      "text/plain": [
       "[[],\n",
       " [1],\n",
       " [1, 2],\n",
       " [1, 2, 3],\n",
       " [1, 2, 3, 3],\n",
       " [1, 3],\n",
       " [1, 3, 3],\n",
       " [2],\n",
       " [2, 3],\n",
       " [2, 3, 3],\n",
       " [3],\n",
       " [3, 3]]"
      ]
     },
     "execution_count": 35,
     "metadata": {},
     "output_type": "execute_result"
    }
   ],
   "source": [
    "nums = [1,2,3, 3]\n",
    "subset_recursive3(nums)"
   ]
  },
  {
   "cell_type": "markdown",
   "metadata": {},
   "source": [
    "## Ex3: Permutation\n",
    "\n",
    "Given abc:\n",
    "\n",
    "Output: bca cba cab acb bac abc"
   ]
  },
  {
   "cell_type": "code",
   "execution_count": 38,
   "metadata": {},
   "outputs": [],
   "source": [
    "def permutation1(res, nums):\n",
    "    if len(nums) == 0:\n",
    "        print(res)\n",
    "    for i in range(len(nums)):\n",
    "         permutation1(res + str(nums[i]), nums[:i] + nums[i+1:])"
   ]
  },
  {
   "cell_type": "code",
   "execution_count": 39,
   "metadata": {},
   "outputs": [
    {
     "name": "stdout",
     "output_type": "stream",
     "text": [
      "abc\n",
      "acb\n",
      "bac\n",
      "bca\n",
      "cab\n",
      "cba\n"
     ]
    }
   ],
   "source": [
    "nums = ['a', 'b', 'c']\n",
    "permutation1('', nums)"
   ]
  },
  {
   "cell_type": "code",
   "execution_count": 40,
   "metadata": {},
   "outputs": [],
   "source": [
    "def permutation2(nums):\n",
    "    perms = [[]]\n",
    "    for num in nums:\n",
    "        new_perms = []\n",
    "        for perm in perms:\n",
    "            for i in range(len(perm) + 1):  # Insert num into perm\n",
    "                new_perms.append(perm[:i] + [num] + perm[i:])\n",
    "        perms = new_perms\n",
    "                \n",
    "    return perms"
   ]
  },
  {
   "cell_type": "code",
   "execution_count": 41,
   "metadata": {},
   "outputs": [
    {
     "name": "stdout",
     "output_type": "stream",
     "text": [
      "[[3, 2, 1], [2, 3, 1], [2, 1, 3], [3, 1, 2], [1, 3, 2], [1, 2, 3]]\n"
     ]
    }
   ],
   "source": [
    "nums = [1, 2, 3]\n",
    "print(permutation2(nums))"
   ]
  },
  {
   "cell_type": "markdown",
   "metadata": {},
   "source": [
    "## Ex4: Unique permutation"
   ]
  },
  {
   "cell_type": "code",
   "execution_count": 42,
   "metadata": {},
   "outputs": [
    {
     "name": "stdout",
     "output_type": "stream",
     "text": [
      "123\n",
      "132\n",
      "213\n",
      "231\n",
      "312\n",
      "321\n",
      "233\n",
      "323\n",
      "332\n"
     ]
    }
   ],
   "source": [
    "def perm_unique(res, nums):\n",
    "    nums.sort()\n",
    "    if len(nums) == 0:\n",
    "        print(res)\n",
    "    \n",
    "    for i in range(len(nums)):\n",
    "        if i != 0 and nums[i] == nums[i-1]:\n",
    "            continue\n",
    "        perm_unique(res+str(nums[i]), nums[:i]+nums[i+1:])\n",
    "\n",
    "nums = [1, 2, 3]\n",
    "perm_unique('', nums)  \n",
    "nums = [3, 2, 3]\n",
    "perm_unique('', nums)      "
   ]
  },
  {
   "cell_type": "code",
   "execution_count": 43,
   "metadata": {},
   "outputs": [
    {
     "name": "stdout",
     "output_type": "stream",
     "text": [
      "[[3, 2, 1], [2, 3, 1], [2, 1, 3], [3, 1, 2], [1, 3, 2], [1, 2, 3]]\n",
      "[[3, 2, 3], [2, 3, 3], [3, 3, 2]]\n"
     ]
    }
   ],
   "source": [
    "def perm_unique2(nums):\n",
    "    perms = [[]]\n",
    "    \n",
    "    for num in nums:\n",
    "        new_perm = []\n",
    "        for perm in perms:\n",
    "            for i in range(len(perm) + 1):\n",
    "                new_perm.append(perm[:i] + [num] + perm[i:])\n",
    "                if i < len(perm) and perm[i] == num:  # num has appeared before\n",
    "                    break\n",
    "        perms = new_perm\n",
    "    return perms\n",
    "\n",
    "nums = [1, 2, 3]\n",
    "print(perm_unique2(nums))\n",
    "nums = [3, 2, 3]\n",
    "print(perm_unique2(nums))  "
   ]
  },
  {
   "cell_type": "markdown",
   "metadata": {},
   "source": [
    "## Ex5 Permutation of size k\n",
    "takes two parameters n and k, and prints out all P(n, k) = n! / (n-k)! permutations that contain exactly k of the n elements. when k = 2 and n = 4\n",
    "\n",
    "ab ac ad ba bc bd ca cb cd da db dc"
   ]
  },
  {
   "cell_type": "code",
   "execution_count": 44,
   "metadata": {},
   "outputs": [],
   "source": [
    "def perm_size_k(res, nums, k):\n",
    "    if k == 0:\n",
    "        print(res)\n",
    "    for i in range(len(nums)):\n",
    "        perm_size_k(res + str(nums[i]), nums[:i] + nums[i + 1:], k - 1)\n",
    "    "
   ]
  },
  {
   "cell_type": "code",
   "execution_count": 45,
   "metadata": {},
   "outputs": [
    {
     "name": "stdout",
     "output_type": "stream",
     "text": [
      "12\n",
      "13\n",
      "14\n",
      "21\n",
      "23\n",
      "24\n",
      "31\n",
      "32\n",
      "34\n",
      "41\n",
      "42\n",
      "43\n"
     ]
    }
   ],
   "source": [
    "nums = [1, 2, 3, 4]\n",
    "k = 2\n",
    "perm_size_k('', nums, k)\n"
   ]
  },
  {
   "cell_type": "markdown",
   "metadata": {},
   "source": [
    "## Ex6: Letter Case Permutation\n",
    "\n",
    "Enumerate all uppercase/lowercase permutation for any letter specified in input\n",
    "\n",
    "For example,\n",
    "\n",
    "word = “medium-one”\n",
    "\n",
    "Rule = “io”\n",
    "\n",
    "solutions = \\[“medium-one”, “medIum-one”, “medium-One”, “medIum-One”\\]"
   ]
  },
  {
   "cell_type": "code",
   "execution_count": null,
   "metadata": {},
   "outputs": [],
   "source": []
  },
  {
   "cell_type": "markdown",
   "metadata": {},
   "source": [
    "## Ex7: Combination Sum\n",
    "Given a set of candidate numbers (candidates) (without duplicates) and a target number (target), find all unique combinations in candidates where the candidate numbers sums to target.\n",
    "\n",
    "The same repeated number may be chosen from candidates unlimited number of times."
   ]
  },
  {
   "cell_type": "code",
   "execution_count": 46,
   "metadata": {},
   "outputs": [],
   "source": [
    "# Find all subset of nums\n",
    "# Check which subset can sum up to target\n",
    "def comsum(nums, target):\n",
    "    res = []\n",
    "    lst = []\n",
    "    pos = 0\n",
    "    comsum_helper(nums, res, lst, target, pos)\n",
    "    return res\n",
    "\n",
    "def comsum_helper(nums, res, lst, target, pos):\n",
    "    if target < 0: return\n",
    "    if target == 0:\n",
    "        res.append(lst[:])\n",
    "    else:\n",
    "        for i in range(pos, len(nums)):\n",
    "            lst.append(nums[i])\n",
    "            comsum_helper(nums, res, lst, target - nums[i], i)\n",
    "            lst.pop()"
   ]
  },
  {
   "cell_type": "code",
   "execution_count": 47,
   "metadata": {},
   "outputs": [
    {
     "data": {
      "text/plain": [
       "[[2, 2, 3], [7]]"
      ]
     },
     "execution_count": 47,
     "metadata": {},
     "output_type": "execute_result"
    }
   ],
   "source": [
    "candidates = [2,3,6,7]\n",
    "t = 7\n",
    "comsum(candidates, t)"
   ]
  },
  {
   "cell_type": "code",
   "execution_count": 48,
   "metadata": {},
   "outputs": [
    {
     "data": {
      "text/plain": [
       "[[2, 2, 2, 2], [2, 3, 3], [3, 5]]"
      ]
     },
     "execution_count": 48,
     "metadata": {},
     "output_type": "execute_result"
    }
   ],
   "source": [
    "candidates = [2,3,5]\n",
    "t = 8\n",
    "comsum(candidates, t)"
   ]
  },
  {
   "cell_type": "markdown",
   "metadata": {},
   "source": [
    "## Ex8: Combination Sum II\n",
    "\n",
    "Given a collection of candidate numbers (candidates) and a target number (target), find all unique combinations in candidates where the candidate numbers sums to target.\n",
    "\n",
    "Each number in candidates may only be used once in the combination.\n",
    "\n",
    "**Note**:\n",
    "\n",
    "All numbers (including target) will be positive integers.\n",
    "\n",
    "The solution set must not contain duplicate combinations."
   ]
  },
  {
   "cell_type": "code",
   "execution_count": 49,
   "metadata": {},
   "outputs": [],
   "source": [
    "def comsum2(nums, target):\n",
    "    res = []\n",
    "    lst = []\n",
    "    nums.sort()\n",
    "    comsum_helper2(nums, res, lst, target, 0)\n",
    "    return res\n",
    "\n",
    "def comsum_helper2(nums, res, lst, target, pos):\n",
    "    if target < 0: return\n",
    "    if target == 0:\n",
    "        res.append(lst[:])\n",
    "    else:\n",
    "        for i in range(pos, len(nums)):            \n",
    "            if i>pos and nums[i] == nums[i - 1]:\n",
    "                continue\n",
    "            lst.append(nums[i])\n",
    "            comsum_helper2(nums, res, lst, target - nums[i], i + 1)\n",
    "            lst.pop()"
   ]
  },
  {
   "cell_type": "code",
   "execution_count": 50,
   "metadata": {},
   "outputs": [
    {
     "data": {
      "text/plain": [
       "[[1, 1, 6], [1, 2, 5], [1, 7], [2, 6]]"
      ]
     },
     "execution_count": 50,
     "metadata": {},
     "output_type": "execute_result"
    }
   ],
   "source": [
    "candidates = [10,1,2,7,6,1,5]\n",
    "t = 8\n",
    "comsum2(candidates, t)"
   ]
  },
  {
   "cell_type": "code",
   "execution_count": 51,
   "metadata": {},
   "outputs": [
    {
     "data": {
      "text/plain": [
       "[[1, 2, 2], [5]]"
      ]
     },
     "execution_count": 51,
     "metadata": {},
     "output_type": "execute_result"
    }
   ],
   "source": [
    "candidates = [2,5,2,1,2]\n",
    "t = 5\n",
    "comsum2(candidates, t)"
   ]
  },
  {
   "cell_type": "code",
   "execution_count": 52,
   "metadata": {},
   "outputs": [
    {
     "data": {
      "text/plain": [
       "[[7]]"
      ]
     },
     "execution_count": 52,
     "metadata": {},
     "output_type": "execute_result"
    }
   ],
   "source": [
    "candidates = [2,3,6,7]\n",
    "t = 7\n",
    "comsum2(candidates, t)"
   ]
  },
  {
   "cell_type": "markdown",
   "metadata": {},
   "source": [
    "## Ex9: Parentheses\n",
    "\n",
    "Given n pairs of parentheses, write a function to generate all combinations of well-formed parentheses."
   ]
  },
  {
   "cell_type": "code",
   "execution_count": 53,
   "metadata": {},
   "outputs": [],
   "source": [
    "def generate_parentheses(n):\n",
    "    def generate(prefix, left, right, parens=[]):\n",
    "        if right == 0: parens.append(prefix)\n",
    "        if left > 0: generate(prefix + '(', left - 1, right)\n",
    "        if right > left: generate(prefix + ')', left, right - 1)\n",
    "        return parens\n",
    "    return generate('', n, n)"
   ]
  },
  {
   "cell_type": "code",
   "execution_count": 54,
   "metadata": {},
   "outputs": [
    {
     "data": {
      "text/plain": [
       "['(((())))',\n",
       " '((()()))',\n",
       " '((())())',\n",
       " '((()))()',\n",
       " '(()(()))',\n",
       " '(()()())',\n",
       " '(()())()',\n",
       " '(())(())',\n",
       " '(())()()',\n",
       " '()((()))',\n",
       " '()(()())',\n",
       " '()(())()',\n",
       " '()()(())',\n",
       " '()()()()']"
      ]
     },
     "execution_count": 54,
     "metadata": {},
     "output_type": "execute_result"
    }
   ],
   "source": [
    "generate_parentheses(4)"
   ]
  },
  {
   "cell_type": "markdown",
   "metadata": {},
   "source": [
    "## Ex10: N Queens\n",
    "\n",
    "The n-queens puzzle is the problem of placing n queens on an n×n chessboard such that no two queens attack each other.\n",
    "\n",
    "Given an integer n, return all distinct solutions to the n-queens puzzle.\n",
    "\n",
    "Each solution contains a distinct board configuration of the n-queens' placement, where 'Q' and '.' both indicate a queen and an empty space respectively."
   ]
  },
  {
   "cell_type": "code",
   "execution_count": null,
   "metadata": {},
   "outputs": [],
   "source": []
  }
 ],
 "metadata": {
  "kernelspec": {
   "display_name": "Python 3",
   "language": "python",
   "name": "python3"
  },
  "language_info": {
   "codemirror_mode": {
    "name": "ipython",
    "version": 3
   },
   "file_extension": ".py",
   "mimetype": "text/x-python",
   "name": "python",
   "nbconvert_exporter": "python",
   "pygments_lexer": "ipython3",
   "version": "3.7.3"
  },
  "toc": {
   "base_numbering": 1,
   "nav_menu": {},
   "number_sections": true,
   "sideBar": true,
   "skip_h1_title": false,
   "title_cell": "Table of Contents",
   "title_sidebar": "Contents",
   "toc_cell": false,
   "toc_position": {},
   "toc_section_display": true,
   "toc_window_display": true
  }
 },
 "nbformat": 4,
 "nbformat_minor": 2
}
