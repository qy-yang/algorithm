{
 "cells": [
  {
   "cell_type": "markdown",
   "metadata": {},
   "source": [
    "## Ex1: Binary Search"
   ]
  },
  {
   "cell_type": "code",
   "execution_count": 1,
   "metadata": {},
   "outputs": [],
   "source": [
    "def bi_search(nums, target):\n",
    "    if len(nums) == 0:\n",
    "        return -1\n",
    "    \n",
    "    l, r = 0, len(nums) - 1\n",
    "    while l <= r:\n",
    "        m = l + (r - l) // 2\n",
    "        if nums[m] == target:\n",
    "            return m\n",
    "        elif nums[m] > target:\n",
    "            r = m - 1\n",
    "        else:\n",
    "            l = m + 1\n",
    "    return -1\n",
    "    "
   ]
  },
  {
   "cell_type": "code",
   "execution_count": 2,
   "metadata": {},
   "outputs": [
    {
     "name": "stdout",
     "output_type": "stream",
     "text": [
      "4\n",
      "-1\n"
     ]
    }
   ],
   "source": [
    "num_list = [1,2,3,5,7,8,9]\n",
    "print(bi_search(num_list, 7))\n",
    "print(bi_search(num_list, 4))"
   ]
  },
  {
   "cell_type": "markdown",
   "metadata": {},
   "source": [
    "## Ex2: Binary Search Template"
   ]
  },
  {
   "cell_type": "code",
   "execution_count": 3,
   "metadata": {},
   "outputs": [],
   "source": [
    "def bi_search_template(nums, target):\n",
    "    if len(nums) == 0:\n",
    "        return -1\n",
    "    \n",
    "    l, r = 0, len(nums) - 1\n",
    "    while l + 1 < r:\n",
    "        m = l + (r - l) // 2\n",
    "        if nums[m] == target:\n",
    "            return m\n",
    "        elif nums[m] > target:\n",
    "            r = m\n",
    "        else:\n",
    "            l = m\n",
    "            \n",
    "    if nums[l] == target:\n",
    "        return l\n",
    "    if nums[r] == target:\n",
    "        return r\n",
    "    \n",
    "    return -1"
   ]
  },
  {
   "cell_type": "code",
   "execution_count": 4,
   "metadata": {},
   "outputs": [
    {
     "name": "stdout",
     "output_type": "stream",
     "text": [
      "4\n",
      "-1\n"
     ]
    }
   ],
   "source": [
    "num_list = [1,2,3,5,7,8,9]\n",
    "print(bi_search_template(num_list, 7))\n",
    "print(bi_search_template(num_list, 4))"
   ]
  },
  {
   "cell_type": "markdown",
   "metadata": {},
   "source": [
    "## Ex3: Find Min in Rotated Sorted Array\n",
    "Suppose an array sorted in ascending order is rotated at some pivot unknown to you beforehand. Find the minimum element."
   ]
  },
  {
   "cell_type": "code",
   "execution_count": 5,
   "metadata": {},
   "outputs": [],
   "source": [
    "def search(nums):\n",
    "    if len(nums) == 0:\n",
    "        return -1 \n",
    "    \n",
    "    l, r = 0, len(nums) - 1\n",
    "    while l + 1 < r:\n",
    "        m = l + (r - l) // 2\n",
    "        if nums[m] <= nums[r] and nums[m] >= nums[l]:\n",
    "            return nums[l]\n",
    "        elif nums[m] >= nums[l] and nums[m] >=nums[r]:\n",
    "            l = m\n",
    "        elif nums[m] <= nums[r] and nums[m] <= nums[l]:\n",
    "            r = m\n",
    "            \n",
    "    return nums[l] if nums[l] < nums[r] else nums[r]"
   ]
  },
  {
   "cell_type": "code",
   "execution_count": 6,
   "metadata": {},
   "outputs": [
    {
     "name": "stdout",
     "output_type": "stream",
     "text": [
      "1\n",
      "1\n",
      "1\n"
     ]
    }
   ],
   "source": [
    "num_list = [3,4,5,6,1,2]\n",
    "print(search(num_list))\n",
    "\n",
    "num_list = [5,6,1,2, 3,4]\n",
    "print(search(num_list))\n",
    "\n",
    "num_list = [1,2,3,4,5,6]\n",
    "print(search(num_list))"
   ]
  },
  {
   "cell_type": "markdown",
   "metadata": {},
   "source": [
    "## Ex4: Find in Roated Array\n",
    "Find the target number in a rotated array"
   ]
  },
  {
   "cell_type": "code",
   "execution_count": 7,
   "metadata": {},
   "outputs": [],
   "source": [
    "def search_num(nums, target):\n",
    "    if len(nums) == 0:\n",
    "        return -1\n",
    "    \n",
    "    l, r = 0, len(nums) - 1\n",
    "    while l + 1 < r:\n",
    "        m = l + (r - l) // 2\n",
    "        if nums[m] == target:\n",
    "            return m\n",
    "        elif nums[m] <= nums[r] and nums[m] >= nums[l]:  # the list is not rotated\n",
    "            if target > nums[m]:\n",
    "                l = m \n",
    "            else:\n",
    "                r = m\n",
    "        elif nums[m] >= nums[l] and nums[m] >=nums[r]:  # rotate is at right partition\n",
    "            if target < nums[l] or target > nums[m]:\n",
    "                l = m \n",
    "            else:\n",
    "                r = m\n",
    "        elif nums[m] <= nums[r] and nums[m] <= nums[l]:  # rotate is at left partition\n",
    "            if target > nums[r] or target < nums[m]:\n",
    "                r = m \n",
    "            else:\n",
    "                l = m\n",
    "            \n",
    "    if nums[r] == target:\n",
    "        return r\n",
    "    if nums[l] == target:\n",
    "        return l\n",
    "    \n",
    "    return -1\n",
    "                \n",
    "                "
   ]
  },
  {
   "cell_type": "code",
   "execution_count": 8,
   "metadata": {},
   "outputs": [
    {
     "name": "stdout",
     "output_type": "stream",
     "text": [
      "-1\n",
      "0\n",
      "4\n",
      "2\n",
      "0\n",
      "1\n",
      "4\n",
      "6\n"
     ]
    }
   ],
   "source": [
    "num_list = [3,4,5,6,1,2]\n",
    "print(search_num(num_list, 30))\n",
    "print(search_num(num_list, 3))\n",
    "print(search_num(num_list, 1))\n",
    "print(search_num(num_list, 5))\n",
    "\n",
    "num_list = [6,7,1,2,3,4,5]\n",
    "print(search_num(num_list, 6))\n",
    "print(search_num(num_list, 7))\n",
    "print(search_num(num_list, 3))\n",
    "print(search_num(num_list, 5))"
   ]
  },
  {
   "cell_type": "markdown",
   "metadata": {},
   "source": [
    "## Ex5: Search Insert Position\n",
    "Given a sorted array and a target value, return the index if the target is found. If not, return the index where it would be if it were inserted in order. You may assume no duplicates in the array"
   ]
  },
  {
   "cell_type": "code",
   "execution_count": 9,
   "metadata": {},
   "outputs": [],
   "source": [
    "def search_insert_position(nums, target):\n",
    "    if len(nums) == 0:\n",
    "        return 0\n",
    "    \n",
    "    l, r = 0, len(nums) - 1\n",
    "    if target < nums[l]:\n",
    "        return 0\n",
    "    if target > nums[r]:\n",
    "        return r + 1\n",
    "    \n",
    "    while l + 1 < r:\n",
    "        m = l + (r - l) // 2\n",
    "        if nums[m] == target:\n",
    "            return m\n",
    "        elif nums[m] > target:\n",
    "            r = m\n",
    "        else:\n",
    "            l = m\n",
    "            \n",
    "    if nums[l] >= target:\n",
    "        return l\n",
    "    elif nums[r] >= target:\n",
    "        return r\n",
    "    elif nums[r] < target:\n",
    "        return r + 1\n",
    "    return l - 1"
   ]
  },
  {
   "cell_type": "code",
   "execution_count": 10,
   "metadata": {},
   "outputs": [
    {
     "name": "stdout",
     "output_type": "stream",
     "text": [
      "2\n",
      "2\n"
     ]
    }
   ],
   "source": [
    "num_list = [1, 2, 3, 4, 5, 6]\n",
    "print(search_insert_position(num_list, 3))\n",
    "\n",
    "num_list = [1, 2, 4, 5, 6, 7, 8]\n",
    "print(search_insert_position(num_list, 3))\n"
   ]
  },
  {
   "cell_type": "markdown",
   "metadata": {},
   "source": [
    "## Ex6: Find the starting and ending position of a given target value.\n",
    "**Note**:\n",
    "- sorted?\n",
    "- duplicated?\n",
    "- has negative values?"
   ]
  },
  {
   "cell_type": "code",
   "execution_count": 11,
   "metadata": {},
   "outputs": [],
   "source": [
    "def search_range(nums, target):\n",
    "    if len(nums) == 0:\n",
    "        return -1\n",
    "    \n",
    "    # Find the starting position\n",
    "    l, r = 0, len(nums) - 1\n",
    "    while l + 1 < r:\n",
    "        m = l + (r - l) // 2\n",
    "        if target <= nums[m]:\n",
    "            r = m\n",
    "        else:\n",
    "            l = m\n",
    "    \n",
    "    starting = -1\n",
    "    if nums[l] == target:\n",
    "        starting = l\n",
    "    if nums[r] ==  target:\n",
    "        starting = r\n",
    "            \n",
    "    # Find the ending position\n",
    "    l, r = 0, len(nums) - 1\n",
    "    while l + 1 < r:\n",
    "        m = l + (r - l) // 2\n",
    "        if target >= nums[m]:\n",
    "            l = m\n",
    "        else:\n",
    "            r = m\n",
    "    \n",
    "    ending = -1\n",
    "    if nums[l] == target:\n",
    "        ending = l\n",
    "    if nums[r] == target:\n",
    "        ending = r\n",
    "        \n",
    "    return starting, ending"
   ]
  },
  {
   "cell_type": "code",
   "execution_count": 12,
   "metadata": {},
   "outputs": [
    {
     "name": "stdout",
     "output_type": "stream",
     "text": [
      "(1, 4)\n",
      "(-1, -1)\n"
     ]
    }
   ],
   "source": [
    "num_list = [1, 2, 2, 2, 2, 3, 4]\n",
    "print(search_range(num_list, 2))\n",
    "print(search_range(num_list, 5))\n"
   ]
  },
  {
   "cell_type": "markdown",
   "metadata": {},
   "source": [
    "## Ex7: Search in Sorted Array with Empty Strings\n",
    "Given a sorted array of strings which is interspersed with empty strings, write a meth­od to find the location of a given string."
   ]
  },
  {
   "cell_type": "code",
   "execution_count": 13,
   "metadata": {},
   "outputs": [],
   "source": [
    "def search_empty1(nums, target):\n",
    "    if len(nums) == 0:\n",
    "        return -1\n",
    "    return target in nums"
   ]
  },
  {
   "cell_type": "code",
   "execution_count": 14,
   "metadata": {},
   "outputs": [],
   "source": [
    "def search_empty2(nums, target):\n",
    "    if len(nums) == 0:\n",
    "        return -1\n",
    "    \n",
    "    l, r = 0, len(nums) - 1\n",
    "    while l + 1 < r:\n",
    "        m = l + (r - l) // 2\n",
    "        if nums[m] == target:\n",
    "            return m\n",
    "        elif nums[m] == '':\n",
    "            tmp_r = m\n",
    "            tmp_l = m\n",
    "            while tmp_r == '':\n",
    "                tmp_r += 1\n",
    "            while tmp_l == '':\n",
    "                tmp_l -= 1\n",
    "            if tmp_r == len(nums) - 1 or tmp_l == 0:\n",
    "                return -1\n",
    "            if nums[tmp_r] < target:\n",
    "                l = tmp_r\n",
    "            if nums[tmp_l] > target:\n",
    "                r = tmp_l\n",
    "                \n",
    "    if nums[l] == target:\n",
    "        return l\n",
    "    if nums[r] == target:\n",
    "        return r\n",
    "    \n",
    "    return -1"
   ]
  },
  {
   "cell_type": "markdown",
   "metadata": {},
   "source": [
    "## Ex8: Search 1st Position of element in Infinite Array / Stream"
   ]
  },
  {
   "cell_type": "code",
   "execution_count": 15,
   "metadata": {},
   "outputs": [],
   "source": [
    "def search_first(nums, target):\n",
    "    l, r = 0, 1\n",
    "    \n",
    "    if nums[l] == target:\n",
    "        return l\n",
    "    if nums[r] == target: \n",
    "        return r\n",
    "    while nums[r] < target:  # get values of l and r\n",
    "        l = r\n",
    "        r *= 2\n",
    "    \n",
    "    while l + 1 < r:\n",
    "        m = l + (r - l) // 2\n",
    "        if target == nums[m]:\n",
    "            return m\n",
    "        elif target < nums[m]:\n",
    "            r = m\n",
    "        else:\n",
    "            l = m\n",
    "            \n",
    "    if nums[l] == target:\n",
    "        return l\n",
    "    if nums[r] == target: \n",
    "        return r\n",
    "    \n",
    "    return -1 "
   ]
  },
  {
   "cell_type": "markdown",
   "metadata": {},
   "source": [
    "## Ex9: Heaters\n",
    "Winter is coming! Your first job during the contest is to design a standard heater with fixed warm radius to warm all the houses.\n",
    "\n",
    "Now, you are given positions of houses and heaters on a horizontal line, find out minimum radius of heaters so that all houses could be covered by those heaters.\n",
    "\n",
    "So, your input will be the positions of houses and heaters seperately, and your expected output will be the minimum radius standard of heaters.\n",
    "\n",
    "Note:\n",
    "\n",
    "Numbers of houses and heaters you are given are non-negative and will not exceed 25000.\n",
    "\n",
    "Positions of houses and heaters you are given are non-negative and will not exceed 10^9.\n",
    "\n",
    "As long as a house is in the heaters' warm radius range, it can be warmed.\n",
    "\n",
    "All the heaters follow your radius standard and the warm radius will the same.\n",
    "\n",
    "Example 1:\n",
    "\n",
    "Input: \\[1,2,3\\],\\[2\\]\n",
    "\n",
    "Output: 1\n",
    "\n",
    "Explanation: The only heater was placed in the position 2, and if we use the radius 1 standard, then all the houses can be warmed.\n",
    "\n",
    "Example 2:\n",
    "\n",
    "Input: \\[1,2,3,4\\],\\[1,4\\]\n",
    "\n",
    "Output: 1\n",
    "\n",
    "Explanation: The two heater was placed in the position 1 and 4. We need to use radius 1 standard, then all the houses can be warmed."
   ]
  },
  {
   "cell_type": "code",
   "execution_count": 16,
   "metadata": {},
   "outputs": [],
   "source": [
    "# For each house, find the right nearest and left nearest heaters\n",
    "# And take the min distances between the two heaters\n",
    "# max(min(distances))\n",
    "\n",
    "import bisect\n",
    "\n",
    "def radius(houses, heaters):\n",
    "    heaters.sort()\n",
    "    radius = 0\n",
    "    \n",
    "    for house in houses:\n",
    "        pos = bisect.bisect(heaters, house)\n",
    "        left_heater = heaters[pos - 1] if pos - 1 >=0 else float('inf')  # Boundary check\n",
    "        right_heater = heaters[pos] if pos < len(heaters) else float('inf')\n",
    "        cur_radius = min(house - left_heater, right_heater - house)\n",
    "        radius = max(radius, cur_radius)\n",
    "        \n",
    "    return radius"
   ]
  },
  {
   "cell_type": "markdown",
   "metadata": {},
   "source": [
    "## Ex10: sqrt(x)\n",
    "Implement int sqrt(int x).\n",
    "\n",
    "Compute and return the square root of x.\n",
    "\n",
    "x is guaranteed to be a non-negative integer."
   ]
  },
  {
   "cell_type": "code",
   "execution_count": 17,
   "metadata": {},
   "outputs": [],
   "source": [
    "def mysqrt(x):\n",
    "    if x < 0:\n",
    "        return None\n",
    "    \n",
    "    l, r = 0, x\n",
    "    delta = 0.0001\n",
    "    m = l + (r - l)/2\n",
    "    while abs(m * m - x) > delta:\n",
    "        if m * m > x:\n",
    "            r = m\n",
    "        else:\n",
    "            l = m\n",
    "        m = l + (r - l)/2\n",
    "    \n",
    "    return m"
   ]
  },
  {
   "cell_type": "code",
   "execution_count": 18,
   "metadata": {},
   "outputs": [
    {
     "name": "stdout",
     "output_type": "stream",
     "text": [
      "1.4141845703125\n",
      "1.7320404052734375\n"
     ]
    }
   ],
   "source": [
    "print(mysqrt(2))\n",
    "print(mysqrt(3))\n"
   ]
  },
  {
   "cell_type": "markdown",
   "metadata": {},
   "source": [
    "## Ex11: Kth Smallest Element in a Sorted Matrix\n",
    "Given a n x n matrix where each of the rows and columns are sorted in ascending order, find the kth smallest element in the matrix.\n",
    "\n",
    "Note that it is the kth smallest element in the sorted order, not the kth distinct element."
   ]
  },
  {
   "cell_type": "code",
   "execution_count": 19,
   "metadata": {},
   "outputs": [],
   "source": [
    "def kthSmallest(matrix, k):\n",
    "    n = len(matrix)\n",
    "    low, high = matrix[0][0], matrix[n-1][n-1]\n",
    "    while low < high:\n",
    "        mid = low + (high - low) // 2\n",
    "        # Find how many numbers in the matrix are less than the mid value\n",
    "        temp = search_lower_than_mid(matrix, mid, n)\n",
    "        if temp >= k:\n",
    "            high = mid\n",
    "        else:\n",
    "            low = mid + 1\n",
    "    return low\n",
    "\n",
    "def search_lower_than_mid(matrix, mid, n):\n",
    "    i, j = n - 1, 0  # search from bottom left\n",
    "    cnt = 0\n",
    "    while i >=0 and j < n:\n",
    "        if matrix[i][j] <= mid:\n",
    "            cnt += i + 1\n",
    "            j += 1\n",
    "        else:\n",
    "            i -= 1\n",
    "            \n",
    "    return cnt"
   ]
  },
  {
   "cell_type": "code",
   "execution_count": 20,
   "metadata": {},
   "outputs": [
    {
     "name": "stdout",
     "output_type": "stream",
     "text": [
      "5\n"
     ]
    }
   ],
   "source": [
    "matrix = [\n",
    "    [1, 4, 5, 6],\n",
    "    [3, 5, 6, 7],\n",
    "    [9, 20,22,24],\n",
    "    [11,22,23,29]\n",
    "]\n",
    "k = 5\n",
    "print(kthSmallest(matrix, k))"
   ]
  },
  {
   "cell_type": "markdown",
   "metadata": {},
   "source": [
    "## Ex12: Find duplicated number\n",
    "Given an array with n+1 elements, where each elements is a number in the range 1 to n. Assume there is only one duplicated number. Find the number."
   ]
  },
  {
   "cell_type": "code",
   "execution_count": 21,
   "metadata": {},
   "outputs": [],
   "source": [
    "# solution 1: count\n",
    "\n",
    "# solution 2: Use element as position index, mark the element at the position index to be negative. \n",
    "# If there is a duplicated number, the element where the number pointing to should have been marked\n",
    "# negative already.\n",
    "def find_duplicated(nums):\n",
    "    for num in nums:\n",
    "        pos = abs(num) - 1\n",
    "        if nums[pos] < 0:\n",
    "            return pos + 1\n",
    "        else:\n",
    "            nums[pos] *= -1\n"
   ]
  },
  {
   "cell_type": "code",
   "execution_count": 22,
   "metadata": {},
   "outputs": [
    {
     "name": "stdout",
     "output_type": "stream",
     "text": [
      "2\n",
      "3\n"
     ]
    }
   ],
   "source": [
    "print(find_duplicated([1,3,2,2]))\n",
    "print(find_duplicated([3,5,6,3,1,3,2]))"
   ]
  },
  {
   "cell_type": "markdown",
   "metadata": {},
   "source": [
    "**Modified**:\n",
    "\n",
    "- You must not modify the array (assume the array is read only).\n",
    "- You must use only constant, O(1) extra space.\n",
    "- Your runtime complexity should be less than O(n2).\n",
    "- There is only one duplicate number in the array, but it could be repeated more than once."
   ]
  },
  {
   "cell_type": "code",
   "execution_count": 23,
   "metadata": {},
   "outputs": [],
   "source": [
    "# Guess one number\n",
    "# Count the number of elements less or equal to the number\n",
    "# Determine the duplicate number is in which partition\n",
    "def find_duplicate(nums):  \n",
    "    mid = len(nums) // 2\n",
    "    dup_num = find_duplicate_helper(nums, mid)\n",
    "    return dup_num\n",
    "\n",
    "def find_duplicate_helper(lst, mid):\n",
    "    lst_less = [num for num in lst if num <= mid]\n",
    "    lst_more = [num for num in lst if num > mid]\n",
    "    count_less = len(lst_less)  # O(n)\n",
    "    count_more = len(lst_more)\n",
    "    \n",
    "    if count_less == 0 or count_more == 0:\n",
    "        return lst[0]\n",
    "\n",
    "    if count_less > count_more:  # duplicate(s) is in the part less than mid\n",
    "        return find_duplicate_helper(lst_less, mid // 2)\n",
    "    else:\n",
    "        return find_duplicate_helper(lst_more, mid + mid // 2 + 1)"
   ]
  },
  {
   "cell_type": "code",
   "execution_count": 24,
   "metadata": {},
   "outputs": [
    {
     "data": {
      "text/plain": [
       "3"
      ]
     },
     "execution_count": 24,
     "metadata": {},
     "output_type": "execute_result"
    }
   ],
   "source": [
    "nums = [3,5,6,3,1,4,2]\n",
    "find_duplicate(nums)"
   ]
  },
  {
   "cell_type": "code",
   "execution_count": 25,
   "metadata": {},
   "outputs": [],
   "source": [
    "# non-recursion version\n",
    "def find_duplicates2(nums):\n",
    "    low, high = 1, len(nums) - 1\n",
    "    \n",
    "    while low < high:\n",
    "        mid = low + (high - low) // 2\n",
    "        count = 0\n",
    "        for num in nums:\n",
    "            if num <= mid:\n",
    "                count += 1\n",
    "        if count <= mid:\n",
    "            low = mid + 1\n",
    "        else:\n",
    "            high = mid\n",
    "            \n",
    "    return low\n",
    "        "
   ]
  },
  {
   "cell_type": "code",
   "execution_count": 26,
   "metadata": {},
   "outputs": [
    {
     "data": {
      "text/plain": [
       "3"
      ]
     },
     "execution_count": 26,
     "metadata": {},
     "output_type": "execute_result"
    }
   ],
   "source": [
    "nums = [3,5,6,3,1,4,2]\n",
    "find_duplicates2(nums)"
   ]
  },
  {
   "cell_type": "markdown",
   "metadata": {},
   "source": [
    "## Ex13: Median of two sorted array\n",
    "Given two ordered arrays of length N1 and N2, use the method of time complexity O (log N) to find the median of all elements, where N = N1 + N2."
   ]
  },
  {
   "cell_type": "code",
   "execution_count": 27,
   "metadata": {},
   "outputs": [],
   "source": [
    "# Two eggs, one egg is to find the range of floors, another is to get the exact floor number\n",
    "\n",
    "def two_array_median(l1, l2):\n",
    "    pass"
   ]
  },
  {
   "cell_type": "markdown",
   "metadata": {},
   "source": [
    "## Merge Intervals\n",
    "- Given a set of intervals, merge all the intervals where there is a cross range.\n",
    "- Enter: \\[[1,3], [2,6], [8,10], [15,18]\\]\n",
    "- Output: \\[[1,6], [8,10], [15,18]\\]\n",
    "- Explanation: Because the intervals \\[1,3\\] and \\[2,6\\] have cross ranges, they are combined into \\[1,6\\]."
   ]
  },
  {
   "cell_type": "code",
   "execution_count": 28,
   "metadata": {},
   "outputs": [],
   "source": [
    "def merge_intervals(intervals):\n",
    "    intervals.sort(key=lambda x: x[0])\n",
    "    \n",
    "    merged = []\n",
    "    for interval in intervals:\n",
    "        if not merged or merged[-1][1] < interval[0]:\n",
    "            merged.append(interval)\n",
    "        else:\n",
    "            merged[-1][1] = max(interval[1], merged[-1][1])\n",
    "\n",
    "    return merged"
   ]
  },
  {
   "cell_type": "code",
   "execution_count": 29,
   "metadata": {},
   "outputs": [
    {
     "name": "stdout",
     "output_type": "stream",
     "text": [
      "[[1, 6], [8, 10], [15, 18]]\n"
     ]
    }
   ],
   "source": [
    "intervals = [[1,3], [2, 6], [8, 10], [15, 18]]\n",
    "print(merge_intervals(intervals))"
   ]
  },
  {
   "cell_type": "markdown",
   "metadata": {},
   "source": [
    "## Ex15: Insert Intervals\n",
    "- Given a set of intervals without crossing ranges, insert a new interval in this set (merge if needed).\n",
    "- You can think of these ranges as sorted by their header elements initially\n",
    "- Input: interval set = \\[[1,3], [6,9]\\], new interval = \\[2,5\\]\n",
    "- Output: \\[[1,5], [6,9]\\]"
   ]
  },
  {
   "cell_type": "code",
   "execution_count": 30,
   "metadata": {},
   "outputs": [],
   "source": [
    "def insert_intervals(intervals, new_interval):\n",
    "    intervals.append(new_interval)\n",
    "    \n",
    "    intervals.sort(key=lambda x: x[0])\n",
    "    \n",
    "    inserted =[]\n",
    "    \n",
    "    for interval in intervals:\n",
    "        if not inserted or inserted[-1][1] < interval[0]:\n",
    "            inserted.append(interval)\n",
    "        else:\n",
    "            inserted[-1][1] = max(interval[1], inserted[-1][1])\n",
    "            \n",
    "    return inserted"
   ]
  },
  {
   "cell_type": "code",
   "execution_count": 31,
   "metadata": {},
   "outputs": [
    {
     "data": {
      "text/plain": [
       "[[1, 2], [3, 10], [12, 16]]"
      ]
     },
     "execution_count": 31,
     "metadata": {},
     "output_type": "execute_result"
    }
   ],
   "source": [
    "intervals=[[1,2], [3,5], [6, 7], [8, 10], [12, 16]]\n",
    "new = [4,8]\n",
    "insert_intervals(intervals, new)"
   ]
  },
  {
   "cell_type": "code",
   "execution_count": null,
   "metadata": {},
   "outputs": [],
   "source": []
  }
 ],
 "metadata": {
  "kernelspec": {
   "display_name": "Python 3",
   "language": "python",
   "name": "python3"
  },
  "language_info": {
   "codemirror_mode": {
    "name": "ipython",
    "version": 3
   },
   "file_extension": ".py",
   "mimetype": "text/x-python",
   "name": "python",
   "nbconvert_exporter": "python",
   "pygments_lexer": "ipython3",
   "version": "3.7.3"
  },
  "toc": {
   "base_numbering": 1,
   "nav_menu": {},
   "number_sections": true,
   "sideBar": true,
   "skip_h1_title": false,
   "title_cell": "Table of Contents",
   "title_sidebar": "Contents",
   "toc_cell": false,
   "toc_position": {
    "height": "calc(100% - 180px)",
    "left": "10px",
    "top": "150px",
    "width": "370.6px"
   },
   "toc_section_display": true,
   "toc_window_display": true
  }
 },
 "nbformat": 4,
 "nbformat_minor": 2
}
